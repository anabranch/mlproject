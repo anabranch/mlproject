{
 "cells": [
  {
   "cell_type": "code",
   "execution_count": 1,
   "metadata": {
    "collapsed": false
   },
   "outputs": [
    {
     "name": "stdout",
     "output_type": "stream",
     "text": [
      "table metrics already exists\n"
     ]
    }
   ],
   "source": [
    "import argparse\n",
    "\n",
    "import numpy as np\n",
    "import pandas as pd\n",
    "\n",
    "from sklearn.pipeline import Pipeline\n",
    "from sklearn.grid_search import GridSearchCV\n",
    "from sklearn.svm import LinearSVC\n",
    "from sklearn.linear_model import LogisticRegression\n",
    "from sklearn.ensemble import RandomForestClassifier, GradientBoostingClassifier, ExtraTreesClassifier\n",
    "from sklearn.neighbors import KNeighborsClassifier\n",
    "from sklearn import decomposition\n",
    "\n",
    "from kaggle_helper import KaggleHelper\n",
    "import feature_transformers as ft\n",
    "import loader\n",
    "import utils\n",
    "\n",
    "KH = KaggleHelper(\"matrix_factorization.db\")\n",
    "XYLOADER = loader.XY7"
   ]
  },
  {
   "cell_type": "code",
   "execution_count": 2,
   "metadata": {
    "collapsed": false
   },
   "outputs": [
    {
     "name": "stdout",
     "output_type": "stream",
     "text": [
      "Starting Pipeline\n",
      "Recording transform_pipeline Metric at: 1449541208\n",
      "Values:\n",
      "(1449541208, 'validation', 'start', 1449541208, 'NA', 'transform_pipeline', \"Pipeline(steps=[('grouper_start', <feature_transformers.NGMetricCheckPoint object at 0x108e29128>), ('grouper', <feature_transformers.GDummyKeepAndMultiplierTransform2 object at 0x108e29048>), ('grouper_end', <feature_transformers.NGMetricCheckPoint object at 0x108e29208>)])\", 'NA')\n",
      "Recording grouper Metric at: 1449541208\n",
      "Values:\n",
      "(1449541208, 'validation', 'start', 1449541208, 'in pipeline', 'grouper', '', '')\n",
      "X SHAPE: (647054, 6)\n",
      "Recording X Shape Metric at: 1449541208\n",
      "Values:\n",
      "(1449541208, 'validation', 'start', 1449541208, 'in pipeline', 'X Shape', '(647054, 6)', '')\n",
      "1/2 way there!\n",
      "transforming\n",
      "completed dummy col vector\n",
      "completed keep col vector\n",
      "done grouping 1\n",
      "done grouping 2\n",
      "(95674, 7)\n",
      "(95674, 69)\n",
      "Recording grouper Metric at: 1449541766\n",
      "Values:\n",
      "(1449541208, 'validation', 'end', 1449541766, 'in pipeline', 'grouper', '', '')\n",
      "X SHAPE: (95674, 76)\n",
      "Recording X Shape Metric at: 1449541766\n",
      "Values:\n",
      "(1449541208, 'validation', 'end', 1449541766, 'in pipeline', 'X Shape', '(95674, 76)', '')\n",
      "Recording grouper Metric at: 1449541766\n",
      "Values:\n",
      "(1449541208, 'validation', 'start', 1449541766, 'in pipeline', 'grouper', '', '')\n",
      "X SHAPE: (653646, 6)\n",
      "Recording X Shape Metric at: 1449541766\n",
      "Values:\n",
      "(1449541208, 'validation', 'start', 1449541766, 'in pipeline', 'X Shape', '(653646, 6)', '')\n",
      "transforming\n",
      "completed dummy col vector\n",
      "completed keep col vector\n",
      "done grouping 1\n",
      "done grouping 2\n",
      "(95674, 7)\n",
      "(95674, 69)\n",
      "Recording grouper Metric at: 1449541883\n",
      "Values:\n",
      "(1449541208, 'validation', 'end', 1449541883, 'in pipeline', 'grouper', '', '')\n",
      "X SHAPE: (95674, 76)\n",
      "Recording X Shape Metric at: 1449541883\n",
      "Values:\n",
      "(1449541208, 'validation', 'end', 1449541883, 'in pipeline', 'X Shape', '(95674, 76)', '')\n"
     ]
    }
   ],
   "source": [
    "    ###### DATA LOADING\n",
    "    xy = XYLOADER(KH)  # CAN CHANGE\n",
    "\n",
    "    X = xy['X_train']\n",
    "    y = xy['y_train']\n",
    "    X_val = xy['X_val']\n",
    "    y_val = xy['y_val']\n",
    "    X_test = xy['X_test']\n",
    "    output_index = xy['X_test_index']"
   ]
  },
  {
   "cell_type": "code",
   "execution_count": 8,
   "metadata": {
    "collapsed": false
   },
   "outputs": [
    {
     "data": {
      "text/plain": [
       "0     125\n",
       "1       0\n",
       "2       0\n",
       "3       0\n",
       "4       0\n",
       "5       0\n",
       "6       0\n",
       "7       0\n",
       "8       0\n",
       "9       0\n",
       "10      0\n",
       "11      0\n",
       "12      0\n",
       "13      0\n",
       "14      0\n",
       "15      0\n",
       "16      0\n",
       "17      0\n",
       "18      0\n",
       "19      0\n",
       "20      0\n",
       "21      0\n",
       "22      0\n",
       "23      0\n",
       "24      0\n",
       "25      0\n",
       "26      0\n",
       "27      0\n",
       "28      0\n",
       "29      0\n",
       "     ... \n",
       "46      0\n",
       "47      0\n",
       "48      0\n",
       "49      0\n",
       "50      0\n",
       "51      0\n",
       "52      0\n",
       "53      0\n",
       "54      0\n",
       "55      0\n",
       "56      0\n",
       "57      0\n",
       "58      0\n",
       "59      0\n",
       "60      0\n",
       "61      0\n",
       "62      0\n",
       "63      0\n",
       "64      0\n",
       "65      0\n",
       "66      0\n",
       "67      0\n",
       "68      0\n",
       "0       0\n",
       "1       0\n",
       "2       0\n",
       "3       0\n",
       "4       0\n",
       "5       0\n",
       "6       0\n",
       "dtype: int64"
      ]
     },
     "execution_count": 8,
     "metadata": {},
     "output_type": "execute_result"
    }
   ],
   "source": []
  },
  {
   "cell_type": "code",
   "execution_count": null,
   "metadata": {
    "collapsed": false
   },
   "outputs": [],
   "source": [
    "pd.DataFrame(X).isnull().any(axis=0)"
   ]
  },
  {
   "cell_type": "code",
   "execution_count": null,
   "metadata": {
    "collapsed": true
   },
   "outputs": [],
   "source": []
  }
 ],
 "metadata": {
  "kernelspec": {
   "display_name": "Python 3",
   "language": "python",
   "name": "python3"
  },
  "language_info": {
   "codemirror_mode": {
    "name": "ipython",
    "version": 3
   },
   "file_extension": ".py",
   "mimetype": "text/x-python",
   "name": "python",
   "nbconvert_exporter": "python",
   "pygments_lexer": "ipython3",
   "version": "3.5.0"
  }
 },
 "nbformat": 4,
 "nbformat_minor": 0
}
