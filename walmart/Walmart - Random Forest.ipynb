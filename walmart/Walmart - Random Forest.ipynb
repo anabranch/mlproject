{
 "cells": [
  {
   "cell_type": "code",
   "execution_count": 2,
   "metadata": {
    "collapsed": false
   },
   "outputs": [
    {
     "name": "stdout",
     "output_type": "stream",
     "text": [
      "The autoreload extension is already loaded. To reload it, use:\n",
      "  %reload_ext autoreload\n"
     ]
    }
   ],
   "source": [
    "%load_ext autoreload"
   ]
  },
  {
   "cell_type": "code",
   "execution_count": 39,
   "metadata": {
    "collapsed": false
   },
   "outputs": [],
   "source": [
    "%matplotlib inline\n",
    "import warnings\n",
    "warnings.simplefilter(\"ignore\", category=DeprecationWarning)\n",
    "\n",
    "import pandas as pd\n",
    "import numpy as np\n",
    "\n",
    "import datetime\n",
    "from sklearn.ensemble import RandomForestClassifier\n",
    "from sklearn.cross_validation import train_test_split, KFold\n",
    "from sklearn.grid_search import GridSearchCV\n",
    "\n",
    "import transform_utils as tu\n",
    "from kaggle_helper import KaggleHelper"
   ]
  },
  {
   "cell_type": "code",
   "execution_count": 8,
   "metadata": {
    "collapsed": false
   },
   "outputs": [
    {
     "name": "stdout",
     "output_type": "stream",
     "text": [
      "table submissions already exists\n",
      "table validation_scores already exists\n"
     ]
    }
   ],
   "source": [
    "kh = KaggleHelper(\"submissions.db\", \"predictions\")"
   ]
  },
  {
   "cell_type": "code",
   "execution_count": 40,
   "metadata": {
    "collapsed": false
   },
   "outputs": [],
   "source": [
    "%aimport transform_utils\n",
    "%aimport kaggle_helper"
   ]
  },
  {
   "cell_type": "code",
   "execution_count": 41,
   "metadata": {
    "collapsed": false
   },
   "outputs": [
    {
     "name": "stdout",
     "output_type": "stream",
     "text": [
      "Modules to reload:\n",
      "kaggle_helper transform_utils\n",
      "\n",
      "Modules to skip:\n",
      "\n"
     ]
    }
   ],
   "source": [
    "%aimport"
   ]
  },
  {
   "cell_type": "code",
   "execution_count": 42,
   "metadata": {
    "collapsed": false
   },
   "outputs": [
    {
     "name": "stdout",
     "output_type": "stream",
     "text": [
      "Unique UPC: 97715\n",
      "Unique DepartmentDescription: 69\n",
      "Unique FinelineNumber: 5196\n"
     ]
    },
    {
     "data": {
      "text/html": [
       "<div>\n",
       "<table border=\"1\" class=\"dataframe\">\n",
       "  <thead>\n",
       "    <tr style=\"text-align: right;\">\n",
       "      <th></th>\n",
       "      <th>TripType</th>\n",
       "      <th>VisitNumber</th>\n",
       "      <th>Weekday</th>\n",
       "      <th>Upc</th>\n",
       "      <th>ScanCount</th>\n",
       "      <th>DepartmentDescription</th>\n",
       "      <th>FinelineNumber</th>\n",
       "    </tr>\n",
       "  </thead>\n",
       "  <tbody>\n",
       "    <tr>\n",
       "      <th>0</th>\n",
       "      <td>999</td>\n",
       "      <td>5</td>\n",
       "      <td>Friday</td>\n",
       "      <td>68113152929</td>\n",
       "      <td>-1</td>\n",
       "      <td>FINANCIAL SERVICES</td>\n",
       "      <td>1000</td>\n",
       "    </tr>\n",
       "    <tr>\n",
       "      <th>1</th>\n",
       "      <td>30</td>\n",
       "      <td>7</td>\n",
       "      <td>Friday</td>\n",
       "      <td>60538815980</td>\n",
       "      <td>1</td>\n",
       "      <td>SHOES</td>\n",
       "      <td>8931</td>\n",
       "    </tr>\n",
       "    <tr>\n",
       "      <th>2</th>\n",
       "      <td>30</td>\n",
       "      <td>7</td>\n",
       "      <td>Friday</td>\n",
       "      <td>7410811099</td>\n",
       "      <td>1</td>\n",
       "      <td>PERSONAL CARE</td>\n",
       "      <td>4504</td>\n",
       "    </tr>\n",
       "    <tr>\n",
       "      <th>3</th>\n",
       "      <td>26</td>\n",
       "      <td>8</td>\n",
       "      <td>Friday</td>\n",
       "      <td>2238403510</td>\n",
       "      <td>2</td>\n",
       "      <td>PAINT AND ACCESSORIES</td>\n",
       "      <td>3565</td>\n",
       "    </tr>\n",
       "    <tr>\n",
       "      <th>4</th>\n",
       "      <td>26</td>\n",
       "      <td>8</td>\n",
       "      <td>Friday</td>\n",
       "      <td>2006613744</td>\n",
       "      <td>2</td>\n",
       "      <td>PAINT AND ACCESSORIES</td>\n",
       "      <td>1017</td>\n",
       "    </tr>\n",
       "  </tbody>\n",
       "</table>\n",
       "</div>"
      ],
      "text/plain": [
       "   TripType  VisitNumber Weekday          Upc  ScanCount  \\\n",
       "0       999            5  Friday  68113152929         -1   \n",
       "1        30            7  Friday  60538815980          1   \n",
       "2        30            7  Friday   7410811099          1   \n",
       "3        26            8  Friday   2238403510          2   \n",
       "4        26            8  Friday   2006613744          2   \n",
       "\n",
       "   DepartmentDescription  FinelineNumber  \n",
       "0     FINANCIAL SERVICES            1000  \n",
       "1                  SHOES            8931  \n",
       "2          PERSONAL CARE            4504  \n",
       "3  PAINT AND ACCESSORIES            3565  \n",
       "4  PAINT AND ACCESSORIES            1017  "
      ]
     },
     "execution_count": 42,
     "metadata": {},
     "output_type": "execute_result"
    }
   ],
   "source": [
    "raw = pd.read_csv(\"data/train.csv\")\n",
    "print(\"Unique UPC:\", len(raw.Upc.unique()))\n",
    "print(\"Unique DepartmentDescription:\", len(raw.DepartmentDescription.unique()))\n",
    "print(\"Unique FinelineNumber:\", len(raw.FinelineNumber.unique()))\n",
    "raw.head()"
   ]
  },
  {
   "cell_type": "code",
   "execution_count": 71,
   "metadata": {
    "collapsed": false,
    "scrolled": false
   },
   "outputs": [
    {
     "name": "stdout",
     "output_type": "stream",
     "text": [
      "Total Time: 120.771017\n"
     ]
    }
   ],
   "source": [
    "start = datetime.datetime.now()\n",
    "%autoreload\n",
    "group_cols = ['DepartmentDescription', 'Weekday']\n",
    "keep_cols = ['VisitNumber', 'ScanCount', 'Returns']\n",
    "df = tu.preprocess_walmart(raw, group_cols, keep_cols, True)\n",
    "\n",
    "print(\"Total Time:\", (datetime.datetime.now() - start).total_seconds())"
   ]
  },
  {
   "cell_type": "code",
   "execution_count": 74,
   "metadata": {
    "collapsed": true
   },
   "outputs": [],
   "source": [
    "def fix_index(idx_val):\n",
    "    top, bottom = idx_val\n",
    "    if top == \"TripType\":\n",
    "        return \"TripType\"\n",
    "    else:\n",
    "        return ''.join(idx_val)"
   ]
  },
  {
   "cell_type": "code",
   "execution_count": 76,
   "metadata": {
    "collapsed": false,
    "scrolled": false
   },
   "outputs": [],
   "source": [
    "df.columns = list(map(fix_index, df.columns.tolist())) # if hierarchical..."
   ]
  },
  {
   "cell_type": "code",
   "execution_count": 80,
   "metadata": {
    "collapsed": false,
    "scrolled": false
   },
   "outputs": [],
   "source": [
    "X = df.reset_index().drop(\"TripType\", axis=1).drop(\"VisitNumber\", axis=1)\n",
    "sorted_columns = sorted(X.columns)\n",
    "X = X[sorted_columns]\n",
    "y = df.TripType"
   ]
  },
  {
   "cell_type": "code",
   "execution_count": 81,
   "metadata": {
    "collapsed": false
   },
   "outputs": [],
   "source": [
    "XTrain, XVal, yTrain, yVal = train_test_split(X.values, y.values, test_size=0.3, random_state=200)"
   ]
  },
  {
   "cell_type": "code",
   "execution_count": 82,
   "metadata": {
    "collapsed": true
   },
   "outputs": [],
   "source": [
    "search_grid = {\n",
    "    \"n_estimators\": [130],\n",
    "    \"max_features\": [\"auto\"],\n",
    "    \"min_samples_split\": [10],\n",
    "    \"min_samples_leaf\": [1]\n",
    "}"
   ]
  },
  {
   "cell_type": "code",
   "execution_count": 83,
   "metadata": {
    "collapsed": false,
    "scrolled": false
   },
   "outputs": [
    {
     "name": "stdout",
     "output_type": "stream",
     "text": [
      "0.889001149706\n",
      "Total Time: 182.472035\n"
     ]
    }
   ],
   "source": [
    "start = datetime.datetime.now()\n",
    "clf = RandomForestClassifier()\n",
    "\n",
    "model = GridSearchCV(clf, search_grid, n_jobs=3)\n",
    "model.fit(X, y)\n",
    "score = model.score(XVal, yVal)\n",
    "print(score)\n",
    "\n",
    "print(\"Total Time:\", (datetime.datetime.now() - start).total_seconds())"
   ]
  },
  {
   "cell_type": "code",
   "execution_count": 84,
   "metadata": {
    "collapsed": false
   },
   "outputs": [
    {
     "name": "stdout",
     "output_type": "stream",
     "text": [
      "Enter Notes to save to DB: improved training, and indexing\n"
     ]
    }
   ],
   "source": [
    "kh.save_validation_score(model, score, len(XTrain))"
   ]
  },
  {
   "cell_type": "markdown",
   "metadata": {},
   "source": [
    "# Only Kaggle Exists Below Here"
   ]
  },
  {
   "cell_type": "code",
   "execution_count": 85,
   "metadata": {
    "collapsed": false
   },
   "outputs": [],
   "source": [
    "%autoreload\n",
    "kaggleTestRaw = pd.read_csv(\"data/test.csv\")\n",
    "keep_cols = ['VisitNumber', 'ScanCount', 'Returns']\n",
    "kaggleTest = tu.preprocess_walmart(kaggleTestRaw, group_cols, keep_cols)\n",
    "kaggleTest.columns = list(map(fix_index, kaggleTest.columns.tolist()))"
   ]
  },
  {
   "cell_type": "code",
   "execution_count": 86,
   "metadata": {
    "collapsed": false
   },
   "outputs": [
    {
     "name": "stdout",
     "output_type": "stream",
     "text": [
      "missing columns\n",
      "---------------\n",
      "DepartmentDescription_HEALTH AND BEAUTY AIDScount_nonzero\n",
      "DepartmentDescription_HEALTH AND BEAUTY AIDSsum\n"
     ]
    }
   ],
   "source": [
    "missing_columns = set(sorted_columns).difference(set(kaggleTest.columns))\n",
    "print(\"missing columns\")\n",
    "print(\"-\"*15)\n",
    "for col in missing_columns:\n",
    "    print(col)\n",
    "    kaggleTest[col] = 0\n",
    "kaggleTest = kaggleTest[sorted_columns]\n",
    "assert list(X.columns) == list(kaggleTest.columns)"
   ]
  },
  {
   "cell_type": "code",
   "execution_count": 87,
   "metadata": {
    "collapsed": false,
    "scrolled": false
   },
   "outputs": [
    {
     "name": "stdout",
     "output_type": "stream",
     "text": [
      "Missing Categories {14}\n"
     ]
    }
   ],
   "source": [
    "%autoreload\n",
    "test_predictions = model.predict(kaggleTest.values)\n",
    "output = tu.convert_predictions(test_predictions, \n",
    "                               output_index=pd.Series(kaggleTest.index), \n",
    "                               actual_trip_types=df.TripType.unique())"
   ]
  },
  {
   "cell_type": "code",
   "execution_count": 88,
   "metadata": {
    "collapsed": false
   },
   "outputs": [
    {
     "name": "stdout",
     "output_type": "stream",
     "text": [
      "Enter Notes to save to DB: improved training, and indexing, apply 2 functions\n"
     ]
    }
   ],
   "source": [
    "kh.save_test_predictions(output, model, len(XTrain))"
   ]
  },
  {
   "cell_type": "code",
   "execution_count": null,
   "metadata": {
    "collapsed": true
   },
   "outputs": [],
   "source": []
  }
 ],
 "metadata": {
  "kernelspec": {
   "display_name": "Python 3",
   "language": "python",
   "name": "python3"
  },
  "language_info": {
   "codemirror_mode": {
    "name": "ipython",
    "version": 3
   },
   "file_extension": ".py",
   "mimetype": "text/x-python",
   "name": "python",
   "nbconvert_exporter": "python",
   "pygments_lexer": "ipython3",
   "version": "3.5.0"
  }
 },
 "nbformat": 4,
 "nbformat_minor": 0
}
