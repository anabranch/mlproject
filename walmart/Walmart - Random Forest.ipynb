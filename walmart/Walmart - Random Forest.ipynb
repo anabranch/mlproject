{
 "cells": [
  {
   "cell_type": "code",
   "execution_count": 1,
   "metadata": {
    "collapsed": false
   },
   "outputs": [],
   "source": [
    "%load_ext autoreload"
   ]
  },
  {
   "cell_type": "code",
   "execution_count": 22,
   "metadata": {
    "collapsed": false
   },
   "outputs": [],
   "source": [
    "%matplotlib inline\n",
    "import warnings\n",
    "warnings.simplefilter(\"ignore\", category=DeprecationWarning)\n",
    "\n",
    "import pandas as pd\n",
    "import seaborn as sns\n",
    "import numpy as np\n",
    "\n",
    "import datetime\n",
    "from sklearn.ensemble import RandomForestClassifier\n",
    "from sklearn.cross_validation import train_test_split, KFold\n",
    "from sklearn.grid_search import GridSearchCV\n",
    "\n",
    "import transform_utils as tu\n",
    "from kaggle_helper import KaggleHelper"
   ]
  },
  {
   "cell_type": "code",
   "execution_count": 23,
   "metadata": {
    "collapsed": false
   },
   "outputs": [
    {
     "name": "stdout",
     "output_type": "stream",
     "text": [
      "table submissions already exists\n",
      "table validation_scores already exists\n"
     ]
    }
   ],
   "source": [
    "kh = KaggleHelper(\"submissions.db\", \"predictions\")"
   ]
  },
  {
   "cell_type": "code",
   "execution_count": 24,
   "metadata": {
    "collapsed": false
   },
   "outputs": [],
   "source": [
    "%aimport transform_utils\n",
    "%aimport kaggle_helper"
   ]
  },
  {
   "cell_type": "code",
   "execution_count": 25,
   "metadata": {
    "collapsed": false
   },
   "outputs": [
    {
     "name": "stdout",
     "output_type": "stream",
     "text": [
      "Modules to reload:\n",
      "kaggle_helper transform_utils\n",
      "\n",
      "Modules to skip:\n",
      "\n"
     ]
    }
   ],
   "source": [
    "%aimport"
   ]
  },
  {
   "cell_type": "code",
   "execution_count": 26,
   "metadata": {
    "collapsed": false
   },
   "outputs": [
    {
     "name": "stdout",
     "output_type": "stream",
     "text": [
      "Unique UPC: 97715\n",
      "Unique DepartmentDescription: 69\n",
      "Unique FinelineNumber: 5196\n"
     ]
    },
    {
     "data": {
      "text/html": [
       "<div>\n",
       "<table border=\"1\" class=\"dataframe\">\n",
       "  <thead>\n",
       "    <tr style=\"text-align: right;\">\n",
       "      <th></th>\n",
       "      <th>TripType</th>\n",
       "      <th>VisitNumber</th>\n",
       "      <th>Weekday</th>\n",
       "      <th>Upc</th>\n",
       "      <th>ScanCount</th>\n",
       "      <th>DepartmentDescription</th>\n",
       "      <th>FinelineNumber</th>\n",
       "    </tr>\n",
       "  </thead>\n",
       "  <tbody>\n",
       "    <tr>\n",
       "      <th>0</th>\n",
       "      <td>999</td>\n",
       "      <td>5</td>\n",
       "      <td>Friday</td>\n",
       "      <td>68113152929</td>\n",
       "      <td>-1</td>\n",
       "      <td>FINANCIAL SERVICES</td>\n",
       "      <td>1000</td>\n",
       "    </tr>\n",
       "    <tr>\n",
       "      <th>1</th>\n",
       "      <td>30</td>\n",
       "      <td>7</td>\n",
       "      <td>Friday</td>\n",
       "      <td>60538815980</td>\n",
       "      <td>1</td>\n",
       "      <td>SHOES</td>\n",
       "      <td>8931</td>\n",
       "    </tr>\n",
       "    <tr>\n",
       "      <th>2</th>\n",
       "      <td>30</td>\n",
       "      <td>7</td>\n",
       "      <td>Friday</td>\n",
       "      <td>7410811099</td>\n",
       "      <td>1</td>\n",
       "      <td>PERSONAL CARE</td>\n",
       "      <td>4504</td>\n",
       "    </tr>\n",
       "    <tr>\n",
       "      <th>3</th>\n",
       "      <td>26</td>\n",
       "      <td>8</td>\n",
       "      <td>Friday</td>\n",
       "      <td>2238403510</td>\n",
       "      <td>2</td>\n",
       "      <td>PAINT AND ACCESSORIES</td>\n",
       "      <td>3565</td>\n",
       "    </tr>\n",
       "    <tr>\n",
       "      <th>4</th>\n",
       "      <td>26</td>\n",
       "      <td>8</td>\n",
       "      <td>Friday</td>\n",
       "      <td>2006613744</td>\n",
       "      <td>2</td>\n",
       "      <td>PAINT AND ACCESSORIES</td>\n",
       "      <td>1017</td>\n",
       "    </tr>\n",
       "  </tbody>\n",
       "</table>\n",
       "</div>"
      ],
      "text/plain": [
       "   TripType  VisitNumber Weekday          Upc  ScanCount  \\\n",
       "0       999            5  Friday  68113152929         -1   \n",
       "1        30            7  Friday  60538815980          1   \n",
       "2        30            7  Friday   7410811099          1   \n",
       "3        26            8  Friday   2238403510          2   \n",
       "4        26            8  Friday   2006613744          2   \n",
       "\n",
       "   DepartmentDescription  FinelineNumber  \n",
       "0     FINANCIAL SERVICES            1000  \n",
       "1                  SHOES            8931  \n",
       "2          PERSONAL CARE            4504  \n",
       "3  PAINT AND ACCESSORIES            3565  \n",
       "4  PAINT AND ACCESSORIES            1017  "
      ]
     },
     "execution_count": 26,
     "metadata": {},
     "output_type": "execute_result"
    }
   ],
   "source": [
    "raw = pd.read_csv(\"data/train.csv\")\n",
    "print(\"Unique UPC:\", len(raw.Upc.unique()))\n",
    "print(\"Unique DepartmentDescription:\", len(raw.DepartmentDescription.unique()))\n",
    "print(\"Unique FinelineNumber:\", len(raw.FinelineNumber.unique()))\n",
    "raw.head()"
   ]
  },
  {
   "cell_type": "code",
   "execution_count": 27,
   "metadata": {
    "collapsed": false,
    "scrolled": true
   },
   "outputs": [
    {
     "name": "stdout",
     "output_type": "stream",
     "text": [
      "Total Time: 6.813662\n"
     ]
    }
   ],
   "source": [
    "start = datetime.datetime.now()\n",
    "%autoreload\n",
    "df = tu.preprocess_walmart(raw, True)\n",
    "\n",
    "print(\"Total Time:\", (datetime.datetime.now() - start).total_seconds())"
   ]
  },
  {
   "cell_type": "code",
   "execution_count": 28,
   "metadata": {
    "collapsed": false
   },
   "outputs": [
    {
     "data": {
      "text/plain": [
       "Index(['DepartmentDescription_PLUS AND MATERNITY',\n",
       "       'DepartmentDescription_HOME MANAGEMENT',\n",
       "       'DepartmentDescription_PHARMACY RX', 'DepartmentDescription_AUTOMOTIVE',\n",
       "       'DepartmentDescription_BEDDING',\n",
       "       'DepartmentDescription_MEDIA AND GAMING',\n",
       "       'DepartmentDescription_SHEER HOSIERY',\n",
       "       'DepartmentDescription_OTHER DEPARTMENTS',\n",
       "       'DepartmentDescription_LARGE HOUSEHOLD GOODS', 'Weekday_Wednesday',\n",
       "       'DepartmentDescription_CAMERAS AND SUPPLIES',\n",
       "       'DepartmentDescription_PERSONAL CARE',\n",
       "       'DepartmentDescription_MENS WEAR',\n",
       "       'DepartmentDescription_BOOKS AND MAGAZINES',\n",
       "       'DepartmentDescription_HORTICULTURE AND ACCESS',\n",
       "       'DepartmentDescription_GIRLS WEAR, 4-6X  AND 7-14', 'Weekday_Monday',\n",
       "       'DepartmentDescription_FINANCIAL SERVICES',\n",
       "       'DepartmentDescription_LADIESWEAR', 'DepartmentDescription_BAKERY',\n",
       "       'DepartmentDescription_OPTICAL - FRAMES',\n",
       "       'DepartmentDescription_CONCEPT STORES',\n",
       "       'DepartmentDescription_HOUSEHOLD CHEMICALS/SUPP',\n",
       "       'DepartmentDescription_CELEBRATION', 'DepartmentDescription_PRODUCE',\n",
       "       'Weekday_Saturday', 'DepartmentDescription_1-HR PHOTO',\n",
       "       'DepartmentDescription_SWIMWEAR/OUTERWEAR',\n",
       "       'DepartmentDescription_JEWELRY AND SUNGLASSES',\n",
       "       'DepartmentDescription_INFANT APPAREL',\n",
       "       'DepartmentDescription_CANDY, TOBACCO, COOKIES',\n",
       "       'DepartmentDescription_BOYS WEAR', 'ScanCount',\n",
       "       'DepartmentDescription_SEASONAL', 'DepartmentDescription_SERVICE DELI',\n",
       "       'Weekday_Sunday', 'VisitNumber', 'Weekday_Friday',\n",
       "       'DepartmentDescription_GROCERY DRY GOODS',\n",
       "       'DepartmentDescription_INFANT CONSUMABLE HARDLINES',\n",
       "       'DepartmentDescription_MENSWEAR',\n",
       "       'DepartmentDescription_SLEEPWEAR/FOUNDATIONS',\n",
       "       'DepartmentDescription_COOK AND DINE', 'TripType',\n",
       "       'DepartmentDescription_PHARMACY OTC', 'DepartmentDescription_HARDWARE',\n",
       "       'DepartmentDescription_MEAT - FRESH & FROZEN', 'Returns',\n",
       "       'DepartmentDescription_ACCESSORIES', 'DepartmentDescription_COMM BREAD',\n",
       "       'DepartmentDescription_PETS AND SUPPLIES',\n",
       "       'DepartmentDescription_BEAUTY', 'DepartmentDescription_OFFICE SUPPLIES',\n",
       "       'DepartmentDescription_FROZEN FOODS',\n",
       "       'DepartmentDescription_LAWN AND GARDEN', 'DepartmentDescription_DAIRY',\n",
       "       'DepartmentDescription_TOYS', 'DepartmentDescription_HOME DECOR',\n",
       "       'DepartmentDescription_PAINT AND ACCESSORIES',\n",
       "       'DepartmentDescription_SHOES', 'DepartmentDescription_SPORTING GOODS',\n",
       "       'DepartmentDescription_ELECTRONICS', 'Weekday_Thursday',\n",
       "       'DepartmentDescription_LIQUOR,WINE,BEER',\n",
       "       'DepartmentDescription_SEAFOOD',\n",
       "       'DepartmentDescription_OPTICAL - LENSES',\n",
       "       'DepartmentDescription_PLAYERS AND ELECTRONICS',\n",
       "       'DepartmentDescription_FURNITURE',\n",
       "       'DepartmentDescription_HEALTH AND BEAUTY AIDS',\n",
       "       'DepartmentDescription_WIRELESS',\n",
       "       'DepartmentDescription_BRAS & SHAPEWEAR', 'Weekday_Tuesday',\n",
       "       'DepartmentDescription_FABRICS AND CRAFTS',\n",
       "       'DepartmentDescription_LADIES SOCKS',\n",
       "       'DepartmentDescription_IMPULSE MERCHANDISE',\n",
       "       'DepartmentDescription_BATH AND SHOWER',\n",
       "       'DepartmentDescription_DSD GROCERY',\n",
       "       'DepartmentDescription_HOUSEHOLD PAPER GOODS',\n",
       "       'DepartmentDescription_PRE PACKED DELI'],\n",
       "      dtype='object')"
      ]
     },
     "execution_count": 28,
     "metadata": {},
     "output_type": "execute_result"
    }
   ],
   "source": [
    "df.columns"
   ]
  },
  {
   "cell_type": "code",
   "execution_count": 29,
   "metadata": {
    "collapsed": false,
    "scrolled": true
   },
   "outputs": [],
   "source": [
    "X = df.drop(\"TripType\", axis=1).drop(\"VisitNumber\", axis=1)\n",
    "sorted_columns = sorted(X.columns)\n",
    "X = X[sorted_columns]\n",
    "y = df.TripType"
   ]
  },
  {
   "cell_type": "code",
   "execution_count": 30,
   "metadata": {
    "collapsed": true
   },
   "outputs": [],
   "source": [
    "XTrain, XTest, yTrain, yTest = train_test_split(X.values, y.values, test_size=0.2, random_state=200)\n",
    "XTrain, XVal, yTrain, yVal = train_test_split(XTrain, yTrain, test_size=0.2, random_state=200)"
   ]
  },
  {
   "cell_type": "markdown",
   "metadata": {},
   "source": [
    "http://scikit-learn.org/stable/modules/generated/sklearn.grid_search.GridSearchCV.html#sklearn.grid_search.GridSearchCV"
   ]
  },
  {
   "cell_type": "code",
   "execution_count": 46,
   "metadata": {
    "collapsed": false
   },
   "outputs": [
    {
     "name": "stdout",
     "output_type": "stream",
     "text": [
      "0.662202769794\n",
      "Total Time: 12.900172\n"
     ]
    }
   ],
   "source": [
    "start = datetime.datetime.now()\n",
    "\n",
    "clf = RandomForestClassifier(max_features=0.15, n_estimators=50, n_jobs=3)\n",
    "clf.fit(XTrain, yTrain)\n",
    "\n",
    "score = clf.score(XVal, yVal)\n",
    "print(score)\n",
    "\n",
    "print(\"Total Time:\", (datetime.datetime.now() - start).total_seconds())"
   ]
  },
  {
   "cell_type": "code",
   "execution_count": 33,
   "metadata": {
    "collapsed": false
   },
   "outputs": [
    {
     "name": "stdout",
     "output_type": "stream",
     "text": [
      "Enter Notes to save to DB: added in weekdays as well as department etc\n"
     ]
    }
   ],
   "source": [
    "kh.save_validation_score(clf, score, len(XTrain))"
   ]
  },
  {
   "cell_type": "markdown",
   "metadata": {},
   "source": [
    "# Only Kaggle Exists Below Here"
   ]
  },
  {
   "cell_type": "code",
   "execution_count": 34,
   "metadata": {
    "collapsed": false
   },
   "outputs": [
    {
     "name": "stdout",
     "output_type": "stream",
     "text": [
      "missing columns\n",
      "---------------\n",
      "DepartmentDescription_HEALTH AND BEAUTY AIDS\n"
     ]
    }
   ],
   "source": [
    "kaggleTest = tu.preprocess_walmart(pd.read_csv(\"data/test.csv\"))\n",
    "missing_columns = set(sorted_columns).difference(set(kaggleTest.columns))\n",
    "print(\"missing columns\")\n",
    "print(\"-\"*15)\n",
    "for col in missing_columns:\n",
    "    print(col)\n",
    "    kaggleTest[col] = 0\n",
    "kaggleTest = kaggleTest[sorted_columns]\n",
    "assert list(X.columns) == list(kaggleTest.columns)"
   ]
  },
  {
   "cell_type": "code",
   "execution_count": 35,
   "metadata": {
    "collapsed": false,
    "scrolled": false
   },
   "outputs": [
    {
     "name": "stdout",
     "output_type": "stream",
     "text": [
      "Missing Categories {14}\n"
     ]
    }
   ],
   "source": [
    "%autoreload\n",
    "test_predictions = clf.predict(kaggleTest.values)\n",
    "output = tu.convert_predictions(test_predictions, \n",
    "                               output_index=pd.Series(kaggleTest.index), \n",
    "                               actual_trip_types=df.TripType.unique())"
   ]
  },
  {
   "cell_type": "code",
   "execution_count": 36,
   "metadata": {
    "collapsed": false
   },
   "outputs": [
    {
     "name": "stdout",
     "output_type": "stream",
     "text": [
      "Enter Notes to save to DB: added in weekdays as well as department etc\n"
     ]
    }
   ],
   "source": [
    "kh.save_test_predictions(output, clf, len(XTrain))"
   ]
  },
  {
   "cell_type": "code",
   "execution_count": null,
   "metadata": {
    "collapsed": true
   },
   "outputs": [],
   "source": []
  }
 ],
 "metadata": {
  "kernelspec": {
   "display_name": "Python 3",
   "language": "python",
   "name": "python3"
  },
  "language_info": {
   "codemirror_mode": {
    "name": "ipython",
    "version": 3
   },
   "file_extension": ".py",
   "mimetype": "text/x-python",
   "name": "python",
   "nbconvert_exporter": "python",
   "pygments_lexer": "ipython3",
   "version": "3.5.0"
  }
 },
 "nbformat": 4,
 "nbformat_minor": 0
}
