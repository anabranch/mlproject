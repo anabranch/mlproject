{
 "cells": [
  {
   "cell_type": "code",
   "execution_count": null,
   "metadata": {
    "collapsed": false
   },
   "outputs": [],
   "source": [
    "%load_ext autoreload"
   ]
  },
  {
   "cell_type": "code",
   "execution_count": null,
   "metadata": {
    "collapsed": false
   },
   "outputs": [],
   "source": [
    "%matplotlib inline\n",
    "import warnings\n",
    "warnings.simplefilter(\"ignore\", category=DeprecationWarning)\n",
    "\n",
    "import pandas as pd\n",
    "import seaborn as sns\n",
    "import numpy as np\n",
    "\n",
    "import datetime\n",
    "from sklearn.ensemble import RandomForestClassifier\n",
    "from sklearn.cross_validation import train_test_split, KFold\n",
    "from sklearn.grid_search import GridSearchCV\n",
    "from sklearn.decomposition import NMF\n",
    "\n",
    "import transform_utils as tu\n",
    "from kaggle_helper import KaggleHelper"
   ]
  },
  {
   "cell_type": "code",
   "execution_count": null,
   "metadata": {
    "collapsed": false
   },
   "outputs": [],
   "source": [
    "kh = KaggleHelper(\"submissions - matrix factorization.db\", \"predictions\")"
   ]
  },
  {
   "cell_type": "code",
   "execution_count": null,
   "metadata": {
    "collapsed": false
   },
   "outputs": [],
   "source": [
    "%aimport transform_utils\n",
    "%aimport kaggle_helper"
   ]
  },
  {
   "cell_type": "code",
   "execution_count": null,
   "metadata": {
    "collapsed": false
   },
   "outputs": [],
   "source": [
    "%aimport"
   ]
  },
  {
   "cell_type": "code",
   "execution_count": null,
   "metadata": {
    "collapsed": false
   },
   "outputs": [],
   "source": [
    "raw = pd.read_csv(\"data/train.csv\")\n",
    "print(\"Unique UPC:\", len(raw.Upc.unique()))\n",
    "print(\"Unique DepartmentDescription:\", len(raw.DepartmentDescription.unique()))\n",
    "print(\"Unique FinelineNumber:\", len(raw.FinelineNumber.unique()))\n",
    "raw.head()"
   ]
  },
  {
   "cell_type": "code",
   "execution_count": null,
   "metadata": {
    "collapsed": false
   },
   "outputs": [],
   "source": [
    "raw = pd.read_csv(\"data/train.csv\")\n",
    "raw['Returns'] = raw.ScanCount.map(lambda x: abs(x) if x < 0 else 0)\n",
    "raw.ScanCount = raw.ScanCount.map(lambda x: 0 if x < 0 else x)"
   ]
  },
  {
   "cell_type": "code",
   "execution_count": null,
   "metadata": {
    "collapsed": false
   },
   "outputs": [],
   "source": [
    "raw.head()"
   ]
  },
  {
   "cell_type": "code",
   "execution_count": null,
   "metadata": {
    "collapsed": false,
    "scrolled": false
   },
   "outputs": [],
   "source": [
    "start = datetime.datetime.now()\n",
    "%autoreload\n",
    "group_cols = ['DepartmentDescription', 'Weekday']\n",
    "keep_cols = ['VisitNumber', 'ScanCount', 'Returns']\n",
    "df = tu.preprocess_walmart(raw, group_cols, keep_cols, True)\n",
    "\n",
    "print(\"Total Time:\", (datetime.datetime.now() - start).total_seconds())"
   ]
  },
  {
   "cell_type": "code",
   "execution_count": null,
   "metadata": {
    "collapsed": false,
    "scrolled": true
   },
   "outputs": [],
   "source": [
    "df.columns"
   ]
  },
  {
   "cell_type": "code",
   "execution_count": null,
   "metadata": {
    "collapsed": false,
    "scrolled": true
   },
   "outputs": [],
   "source": [
    "X = df.drop(\"TripType\", axis=1).drop(\"VisitNumber\", axis=1)\n",
    "sorted_columns = sorted(X.columns)\n",
    "X = X[sorted_columns]\n",
    "y = df.TripType"
   ]
  },
  {
   "cell_type": "code",
   "execution_count": null,
   "metadata": {
    "collapsed": false
   },
   "outputs": [],
   "source": [
    "mf = NMF()\n",
    "mfX = mf.fit_transform(X.values)"
   ]
  },
  {
   "cell_type": "code",
   "execution_count": null,
   "metadata": {
    "collapsed": false
   },
   "outputs": [],
   "source": [
    "print(mfX.shape)\n",
    "print(y.shape)"
   ]
  },
  {
   "cell_type": "code",
   "execution_count": null,
   "metadata": {
    "collapsed": true
   },
   "outputs": [],
   "source": [
    "XTrain, XVal, yTrain, yVal = train_test_split(mfx, y.values, test_size=0.2, random_state=200)"
   ]
  },
  {
   "cell_type": "markdown",
   "metadata": {},
   "source": [
    "http://scikit-learn.org/stable/modules/generated/sklearn.grid_search.GridSearchCV.html#sklearn.grid_search.GridSearchCV"
   ]
  },
  {
   "cell_type": "code",
   "execution_count": null,
   "metadata": {
    "collapsed": false
   },
   "outputs": [],
   "source": [
    "start = datetime.datetime.now()\n",
    "from sklearn.svm import SVC\n",
    "from sklearn.linear_model import LogisticRegression\n",
    "\n",
    "clf = LogisticRegression()\n",
    "clf.fit(XTrain, yTrain)\n",
    "\n",
    "score = clf.score(XVal, yVal)\n",
    "print(score)\n",
    "\n",
    "print(\"Total Time:\", (datetime.datetime.now() - start).total_seconds())"
   ]
  },
  {
   "cell_type": "code",
   "execution_count": null,
   "metadata": {
    "collapsed": false
   },
   "outputs": [],
   "source": [
    "kh.save_validation_score(clf, score, len(XTrain))"
   ]
  },
  {
   "cell_type": "markdown",
   "metadata": {},
   "source": [
    "# Only Kaggle Exists Below Here"
   ]
  },
  {
   "cell_type": "code",
   "execution_count": null,
   "metadata": {
    "collapsed": false
   },
   "outputs": [],
   "source": [
    "kaggleTestRaw = pd.read_csv(\"data/test.csv\")\n",
    "kaggleTest = tu.preprocess_walmart(kaggleTestRaw,\n",
    "                                   group_cols, \n",
    "                                   keep_cols)\n",
    "missing_columns = set(sorted_columns).difference(set(kaggleTest.columns))\n",
    "print(\"missing columns\")\n",
    "print(\"-\"*15)\n",
    "for col in missing_columns:\n",
    "    print(col)\n",
    "    kaggleTest[col] = 0\n",
    "kaggleTest = kaggleTest[sorted_columns]\n",
    "assert list(X.columns) == list(kaggleTest.columns)"
   ]
  },
  {
   "cell_type": "code",
   "execution_count": null,
   "metadata": {
    "collapsed": false,
    "scrolled": false
   },
   "outputs": [],
   "source": [
    "%autoreload\n",
    "test_predictions = clf.predict(kaggleTest.values)\n",
    "output = tu.convert_predictions(test_predictions, \n",
    "                               output_index=pd.Series(kaggleTest.index), \n",
    "                               actual_trip_types=df.TripType.unique())"
   ]
  },
  {
   "cell_type": "code",
   "execution_count": null,
   "metadata": {
    "collapsed": false
   },
   "outputs": [],
   "source": [
    "kh.save_test_predictions(output, clf, len(XTrain))"
   ]
  },
  {
   "cell_type": "code",
   "execution_count": null,
   "metadata": {
    "collapsed": true
   },
   "outputs": [],
   "source": []
  }
 ],
 "metadata": {
  "kernelspec": {
   "display_name": "Python 3",
   "language": "python",
   "name": "python3"
  },
  "language_info": {
   "codemirror_mode": {
    "name": "ipython",
    "version": 3
   },
   "file_extension": ".py",
   "mimetype": "text/x-python",
   "name": "python",
   "nbconvert_exporter": "python",
   "pygments_lexer": "ipython3",
   "version": "3.5.0"
  }
 },
 "nbformat": 4,
 "nbformat_minor": 0
}
