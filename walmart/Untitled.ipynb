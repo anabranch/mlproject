{
 "cells": [
  {
   "cell_type": "code",
   "execution_count": 1,
   "metadata": {
    "collapsed": true
   },
   "outputs": [],
   "source": [
    "import pandas as pd\n",
    "import numpy as np\n",
    "import pickle\n",
    "import gensim"
   ]
  },
  {
   "cell_type": "code",
   "execution_count": 2,
   "metadata": {
    "collapsed": false
   },
   "outputs": [
    {
     "name": "stdout",
     "output_type": "stream",
     "text": [
      "95674 95674\n"
     ]
    }
   ],
   "source": [
    "with open(\"data/train.pkl\", 'rb') as f:\n",
    "    train = pickle.load(f) # fix this to find out what was returned and what wasn't\n",
    "    \n",
    "trip_nums, X_dicts = zip(*train)\n",
    "trip_nums = pd.Series(trip_nums)\n",
    "df = pd.read_csv(\"data/train.csv\")\n",
    "trip_types = df[['TripType', 'VisitNumber']].groupby('VisitNumber').agg(\"mean\")\n",
    "print(len(trip_nums), len(trip_types))"
   ]
  },
  {
   "cell_type": "markdown",
   "metadata": {},
   "source": [
    " - *try taking first four digits of the UPC*, could be shitty\n",
    " - Figure out a way to integrate returns into everything (999)\n",
    " - Fix the way the returns are stored in our vocabulary"
   ]
  },
  {
   "cell_type": "code",
   "execution_count": 4,
   "metadata": {
    "collapsed": false
   },
   "outputs": [
    {
     "ename": "NameError",
     "evalue": "name 'add_feature' is not defined",
     "output_type": "error",
     "traceback": [
      "\u001b[0;31m---------------------------------------------------------------------------\u001b[0m",
      "\u001b[0;31mNameError\u001b[0m                                 Traceback (most recent call last)",
      "\u001b[0;32m<ipython-input-4-8650bc73bbd5>\u001b[0m in \u001b[0;36m<module>\u001b[0;34m()\u001b[0m\n\u001b[1;32m     11\u001b[0m \u001b[0mnew_X\u001b[0m \u001b[0;34m=\u001b[0m \u001b[0;34m[\u001b[0m\u001b[0;34m]\u001b[0m\u001b[0;34m\u001b[0m\u001b[0m\n\u001b[1;32m     12\u001b[0m \u001b[0;32mfor\u001b[0m \u001b[0mrow\u001b[0m \u001b[0;32min\u001b[0m \u001b[0mlist\u001b[0m\u001b[0;34m(\u001b[0m\u001b[0mX_dicts\u001b[0m\u001b[0;34m)\u001b[0m\u001b[0;34m:\u001b[0m\u001b[0;34m\u001b[0m\u001b[0m\n\u001b[0;32m---> 13\u001b[0;31m     \u001b[0madd_values\u001b[0m \u001b[0;34m=\u001b[0m \u001b[0madd_feature\u001b[0m\u001b[0;34m(\u001b[0m\u001b[0mrow\u001b[0m\u001b[0;34m.\u001b[0m\u001b[0mitems\u001b[0m\u001b[0;34m(\u001b[0m\u001b[0;34m)\u001b[0m\u001b[0;34m)\u001b[0m\u001b[0;34m\u001b[0m\u001b[0m\n\u001b[0m\u001b[1;32m     14\u001b[0m     \u001b[0mrow\u001b[0m \u001b[0;34m=\u001b[0m \u001b[0;34m{\u001b[0m\u001b[0;34m**\u001b[0m\u001b[0mrow\u001b[0m\u001b[0;34m,\u001b[0m \u001b[0;34m**\u001b[0m\u001b[0madd_values\u001b[0m\u001b[0;34m}\u001b[0m\u001b[0;34m\u001b[0m\u001b[0m\n\u001b[1;32m     15\u001b[0m     \u001b[0mbad_keys\u001b[0m \u001b[0;34m=\u001b[0m \u001b[0mlist\u001b[0m\u001b[0;34m(\u001b[0m\u001b[0mfilter\u001b[0m\u001b[0;34m(\u001b[0m\u001b[0mpositive_feature\u001b[0m\u001b[0;34m,\u001b[0m \u001b[0mrow\u001b[0m\u001b[0;34m.\u001b[0m\u001b[0mkeys\u001b[0m\u001b[0;34m(\u001b[0m\u001b[0;34m)\u001b[0m\u001b[0;34m)\u001b[0m\u001b[0;34m)\u001b[0m\u001b[0;34m\u001b[0m\u001b[0m\n",
      "\u001b[0;31mNameError\u001b[0m: name 'add_feature' is not defined"
     ]
    }
   ],
   "source": [
    "with open(\"data/train.pkl\", 'rb') as f:\n",
    "    train = pickle.load(f)\n",
    "with open(\"data/test.pkl\", 'rb') as f:\n",
    "    test = pickle.load(f)\n",
    "\n",
    "train_trip_nums, train_X_dicts = zip(*train)\n",
    "df = pd.read_csv(\"data/train.csv\")\n",
    "y = df[['TripType', 'VisitNumber']].groupby('VisitNumber').agg(\"mean\")\n",
    "test_trip_nums, test_X_dicts = zip(*test)\n",
    "\n",
    "new_X = []\n",
    "for row in list(X_dicts):\n",
    "    add_values = add_feature(row.items())\n",
    "    row = {**row, **add_values}\n",
    "    bad_keys = list(filter(positive_feature, row.keys()))\n",
    "    for key in bad_keys:\n",
    "        del row[key]\n",
    "    new_X.append(row)"
   ]
  },
  {
   "cell_type": "code",
   "execution_count": 56,
   "metadata": {
    "collapsed": false
   },
   "outputs": [
    {
     "data": {
      "text/plain": [
       "[{'-1_1000.0_F': 1,\n",
       "  '-1_FINANCIAL SERVICES_D': 1,\n",
       "  '1000.0_F': 1,\n",
       "  'FINANCIAL SERVICES_D': 1,\n",
       "  'U_lens_gt_16': 1},\n",
       " {'1_4504.0_F': 1,\n",
       "  '1_8931.0_F': 1,\n",
       "  '1_PERSONAL CARE_D': 1,\n",
       "  '1_SHOES_D': 1,\n",
       "  '4504.0_F': 1,\n",
       "  '8931.0_F': 1,\n",
       "  'PERSONAL CARE_D': 1,\n",
       "  'SHOES_D': 1,\n",
       "  'U_lens_gt_16': 1},\n",
       " {'-1_3504.0_F': 1,\n",
       "  '-1_3565.0_F': 1,\n",
       "  '-1_PAINT AND ACCESSORIES_D': 2,\n",
       "  '1001.0_F': 1,\n",
       "  '1017.0_F': 3,\n",
       "  '1018.0_F': 1,\n",
       "  '1028.0_F': 1,\n",
       "  '1305.0_F': 1,\n",
       "  '1_1017.0_F': 1,\n",
       "  '1_1028.0_F': 1,\n",
       "  '1_2801.0_F': 1,\n",
       "  '1_2802.0_F': 1,\n",
       "  '1_3300.0_F': 1,\n",
       "  '1_4415.0_F': 2,\n",
       "  '1_4501.0_F': 1,\n",
       "  '1_4606.0_F': 1,\n",
       "  '1_6009.0_F': 1,\n",
       "  '1_7.0_F': 1,\n",
       "  '1_707.0_F': 1,\n",
       "  '1_DSD GROCERY_D': 1,\n",
       "  '1_HOUSEHOLD CHEMICALS/SUPP_D': 1,\n",
       "  '1_MEAT - FRESH & FROZEN_D': 1,\n",
       "  '1_PAINT AND ACCESSORIES_D': 8,\n",
       "  '1_PETS AND SUPPLIES_D': 1,\n",
       "  '1_nan_D': 1,\n",
       "  '1_nan_F': 1,\n",
       "  '2801.0_F': 1,\n",
       "  '2802.0_F': 1,\n",
       "  '2_1017.0_F': 2,\n",
       "  '2_1018.0_F': 1,\n",
       "  '2_1305.0_F': 1,\n",
       "  '2_3504.0_F': 1,\n",
       "  '2_3565.0_F': 2,\n",
       "  '2_DAIRY_D': 1,\n",
       "  '2_PAINT AND ACCESSORIES_D': 6,\n",
       "  '3300.0_F': 1,\n",
       "  '3504.0_F': 2,\n",
       "  '3565.0_F': 3,\n",
       "  '3_1001.0_F': 1,\n",
       "  '3_PETS AND SUPPLIES_D': 1,\n",
       "  '4415.0_F': 2,\n",
       "  '4501.0_F': 1,\n",
       "  '4606.0_F': 1,\n",
       "  '6009.0_F': 1,\n",
       "  '7.0_F': 1,\n",
       "  '707.0_F': 1,\n",
       "  'DAIRY_D': 1,\n",
       "  'DSD GROCERY_D': 1,\n",
       "  'HOUSEHOLD CHEMICALS/SUPP_D': 1,\n",
       "  'MEAT - FRESH & FROZEN_D': 1,\n",
       "  'PAINT AND ACCESSORIES_D': 16,\n",
       "  'PETS AND SUPPLIES_D': 2,\n",
       "  'U_lens_gt_16': 1,\n",
       "  'U_lens_lt_16': 1,\n",
       "  'nan_D': 1,\n",
       "  'nan_F': 1},\n",
       " {'103.0_F': 1,\n",
       "  '115.0_F': 1,\n",
       "  '1_103.0_F': 1,\n",
       "  '1_115.0_F': 1,\n",
       "  '1_5501.0_F': 1,\n",
       "  '1_IMPULSE MERCHANDISE_D': 1,\n",
       "  '1_PRODUCE_D': 2,\n",
       "  '5501.0_F': 1,\n",
       "  'IMPULSE MERCHANDISE_D': 1,\n",
       "  'PRODUCE_D': 2,\n",
       "  'U_lens_gt_16': 1,\n",
       "  'U_lens_lt_16': 1},\n",
       " {'115.0_F': 1,\n",
       "  '1_115.0_F': 1,\n",
       "  '1_2008.0_F': 1,\n",
       "  '1_7950.0_F': 1,\n",
       "  '1_CANDY, TOBACCO, COOKIES_D': 1,\n",
       "  '1_DSD GROCERY_D': 2,\n",
       "  '2008.0_F': 1,\n",
       "  '7950.0_F': 1,\n",
       "  'CANDY, TOBACCO, COOKIES_D': 1,\n",
       "  'DSD GROCERY_D': 2,\n",
       "  'U_lens_gt_16': 1}]"
      ]
     },
     "execution_count": 56,
     "metadata": {},
     "output_type": "execute_result"
    }
   ],
   "source": [
    "def positive_feature(key):\n",
    "    if not key.endswith(\"D\") and not key.endswith(\"F\") and not key.startswith(\"U\"):\n",
    "        return True\n",
    "    \n",
    "    else:\n",
    "        return False\n",
    "    \n",
    "def add_feature(sentence):\n",
    "    feats = {}\n",
    "    for k, v in sentence:\n",
    "        if k.endswith(\"U\"):\n",
    "            if len(k) > 12:\n",
    "                feats['U_lens_gt_16'] = 1\n",
    "            else:\n",
    "                feats['U_lens_lt_16'] = 1\n",
    "    return feats\n",
    "\n",
    "new_X = []\n",
    "for row in list(X_dicts):\n",
    "    add_values = add_feature(row.items())\n",
    "    row = {**row, **add_values}\n",
    "    bad_keys = list(filter(positive_feature, row.keys()))\n",
    "    for key in bad_keys:\n",
    "        del row[key]\n",
    "    new_X.append(row)\n",
    "new_X[:5]"
   ]
  },
  {
   "cell_type": "code",
   "execution_count": 116,
   "metadata": {
    "collapsed": false,
    "scrolled": false
   },
   "outputs": [
    {
     "data": {
      "text/plain": [
       "[['-1_FINANCIAL_SERVICES_D', 'U_lens_gt_16', '-1_1000.0_F'],\n",
       " ['1_PERSONAL_CARE_D',\n",
       "  '1_4504.0_F',\n",
       "  '1_SHOES_D',\n",
       "  '8931.0_F',\n",
       "  'U_lens_gt_16',\n",
       "  '4504.0_F',\n",
       "  '1_8931.0_F',\n",
       "  'PERSONAL_CARE_D',\n",
       "  'SHOES_D'],\n",
       " ['nan_F',\n",
       "  '1_4606.0_F',\n",
       "  '-1_3565.0_F',\n",
       "  '1_7.0_F',\n",
       "  '1_2802.0_F',\n",
       "  '7.0_F',\n",
       "  '1_1028.0_F',\n",
       "  'DSD_GROCERY_D',\n",
       "  'U_lens_lt_16',\n",
       "  'PETS_AND_SUPPLIES_D',\n",
       "  'PETS_AND_SUPPLIES_D',\n",
       "  '6009.0_F',\n",
       "  '2_DAIRY_D',\n",
       "  '2801.0_F',\n",
       "  '1_6009.0_F',\n",
       "  '707.0_F',\n",
       "  '2_1305.0_F',\n",
       "  '1017.0_F',\n",
       "  '1017.0_F',\n",
       "  '1017.0_F',\n",
       "  '3_PETS_AND_SUPPLIES_D',\n",
       "  '1028.0_F',\n",
       "  '4501.0_F',\n",
       "  '2_1018.0_F',\n",
       "  '4606.0_F',\n",
       "  '1018.0_F',\n",
       "  '1_1017.0_F',\n",
       "  '1_4415.0_F',\n",
       "  '1_4415.0_F',\n",
       "  '1_2801.0_F',\n",
       "  '4415.0_F',\n",
       "  '4415.0_F',\n",
       "  '-1_3504.0_F',\n",
       "  '2_1017.0_F',\n",
       "  '2_1017.0_F',\n",
       "  '1305.0_F',\n",
       "  'U_lens_gt_16',\n",
       "  '2802.0_F',\n",
       "  '1_3300.0_F',\n",
       "  '3300.0_F',\n",
       "  '1_MEAT_-_FRESH_&_FROZEN_D',\n",
       "  '2_3565.0_F',\n",
       "  '2_3565.0_F',\n",
       "  'DAIRY_D',\n",
       "  '1_DSD_GROCERY_D',\n",
       "  '1001.0_F',\n",
       "  'nan_D',\n",
       "  'HOUSEHOLD_CHEMICALS/SUPP_D',\n",
       "  '1_4501.0_F',\n",
       "  '3_1001.0_F',\n",
       "  '1_nan_D',\n",
       "  '1_HOUSEHOLD_CHEMICALS/SUPP_D',\n",
       "  '-1_PAINT_AND_ACCESSORIES_D',\n",
       "  '-1_PAINT_AND_ACCESSORIES_D',\n",
       "  '1_nan_F',\n",
       "  '2_3504.0_F',\n",
       "  'MEAT_-_FRESH_&_FROZEN_D',\n",
       "  '1_PAINT_AND_ACCESSORIES_D',\n",
       "  '1_PAINT_AND_ACCESSORIES_D',\n",
       "  '1_PAINT_AND_ACCESSORIES_D',\n",
       "  '1_PAINT_AND_ACCESSORIES_D',\n",
       "  '1_PAINT_AND_ACCESSORIES_D',\n",
       "  '1_PAINT_AND_ACCESSORIES_D',\n",
       "  '1_PAINT_AND_ACCESSORIES_D',\n",
       "  '1_PAINT_AND_ACCESSORIES_D',\n",
       "  '1_PETS_AND_SUPPLIES_D',\n",
       "  '3504.0_F',\n",
       "  '3565.0_F',\n",
       "  '3565.0_F',\n",
       "  'PAINT_AND_ACCESSORIES_D',\n",
       "  'PAINT_AND_ACCESSORIES_D',\n",
       "  'PAINT_AND_ACCESSORIES_D',\n",
       "  'PAINT_AND_ACCESSORIES_D',\n",
       "  'PAINT_AND_ACCESSORIES_D',\n",
       "  'PAINT_AND_ACCESSORIES_D',\n",
       "  'PAINT_AND_ACCESSORIES_D',\n",
       "  'PAINT_AND_ACCESSORIES_D',\n",
       "  'PAINT_AND_ACCESSORIES_D',\n",
       "  'PAINT_AND_ACCESSORIES_D',\n",
       "  'PAINT_AND_ACCESSORIES_D',\n",
       "  'PAINT_AND_ACCESSORIES_D',\n",
       "  'PAINT_AND_ACCESSORIES_D',\n",
       "  'PAINT_AND_ACCESSORIES_D',\n",
       "  'PAINT_AND_ACCESSORIES_D',\n",
       "  '1_707.0_F',\n",
       "  '2_PAINT_AND_ACCESSORIES_D',\n",
       "  '2_PAINT_AND_ACCESSORIES_D',\n",
       "  '2_PAINT_AND_ACCESSORIES_D',\n",
       "  '2_PAINT_AND_ACCESSORIES_D',\n",
       "  '2_PAINT_AND_ACCESSORIES_D',\n",
       "  '2_PAINT_AND_ACCESSORIES_D'],\n",
       " ['PRODUCE_D',\n",
       "  'PRODUCE_D',\n",
       "  '1_115.0_F',\n",
       "  '1_5501.0_F',\n",
       "  'U_lens_gt_16',\n",
       "  'U_lens_lt_16',\n",
       "  'IMPULSE_MERCHANDISE_D',\n",
       "  '5501.0_F',\n",
       "  '1_PRODUCE_D',\n",
       "  '1_PRODUCE_D',\n",
       "  '115.0_F',\n",
       "  '1_IMPULSE_MERCHANDISE_D',\n",
       "  '103.0_F',\n",
       "  '1_103.0_F'],\n",
       " ['1_115.0_F',\n",
       "  'U_lens_gt_16',\n",
       "  'CANDY_TOBACCO_COOKIES_D',\n",
       "  '1_DSD_GROCERY_D',\n",
       "  '1_DSD_GROCERY_D',\n",
       "  '1_2008.0_F',\n",
       "  '1_7950.0_F',\n",
       "  'DSD_GROCERY_D',\n",
       "  'DSD_GROCERY_D',\n",
       "  '2008.0_F',\n",
       "  '7950.0_F',\n",
       "  '115.0_F',\n",
       "  '1_CANDY_TOBACCO_COOKIES_D']]"
      ]
     },
     "execution_count": 116,
     "metadata": {},
     "output_type": "execute_result"
    }
   ],
   "source": [
    "NX = []\n",
    "import re\n",
    "\n",
    "for row in new_X:\n",
    "\n",
    "    sentence = []\n",
    "    negative_words = []\n",
    "    for word, count in row.items():\n",
    "        w1 = word.replace(\",\", \"\").replace(\" \", \"_\")\n",
    "        negative_word = re.search(r\"-(\\d+)_(.*)\", w1)\n",
    "        if negative_word:\n",
    "            cnt = negative_word.group(1)\n",
    "            g = negative_word.group(2)\n",
    "            if len(g) > 1:\n",
    "                for x in range(int(cnt)):\n",
    "                    negative_words.append(g)\n",
    "        w = [w1]\n",
    "        sentence += w*count\n",
    "    for w in negative_words:\n",
    "        try:\n",
    "            sentence.remove(w)\n",
    "        except ValueError:\n",
    "            pass # sometimes they aren't correct\n",
    "\n",
    "    NX.append(sentence)\n",
    "NX[:5]"
   ]
  },
  {
   "cell_type": "code",
   "execution_count": 117,
   "metadata": {
    "collapsed": false
   },
   "outputs": [],
   "source": [
    "model = gensim.models.Word2Vec(NX, size=100, window=10, min_count=5, sg=0, workers=4)"
   ]
  },
  {
   "cell_type": "code",
   "execution_count": 130,
   "metadata": {
    "collapsed": false
   },
   "outputs": [
    {
     "data": {
      "text/plain": [
       "[('5462.0_F', 0.37320587038993835),\n",
       " ('1_6410.0_F', 0.36458951234817505),\n",
       " ('-1_3030.0_F', 0.3536050319671631),\n",
       " ('4208.0_F', 0.3405967652797699),\n",
       " ('5830.0_F', 0.33876028656959534),\n",
       " ('1_2151.0_F', 0.3342741131782532),\n",
       " ('1_3682.0_F', 0.3333727717399597),\n",
       " ('6313.0_F', 0.33083099126815796),\n",
       " ('7654.0_F', 0.3288276791572571),\n",
       " ('1_1636.0_F', 0.317170113325119)]"
      ]
     },
     "execution_count": 130,
     "metadata": {},
     "output_type": "execute_result"
    }
   ],
   "source": [
    "model.most_similar(negative=['1_115.0_F',\n",
    "  'U_lens_gt_16',\n",
    "  'CANDY_TOBACCO_COOKIES_D',\n",
    "  '1_DSD_GROCERY_D',\n",
    "  '1_DSD_GROCERY_D',\n",
    "  '1_2008.0_F',\n",
    "  '1_7950.0_F',\n",
    "  'DSD_GROCERY_D',\n",
    "  'DSD_GROCERY_D',\n",
    "  '2008.0_F',\n",
    "  '7950.0_F',\n",
    "  '115.0_F',\n",
    "  '1_CANDY_TOBACCO_COOKIES_D'], topn=10)"
   ]
  },
  {
   "cell_type": "code",
   "execution_count": null,
   "metadata": {
    "collapsed": false
   },
   "outputs": [],
   "source": [
    "from sklearn.feature_extraction import DictVectorizer"
   ]
  },
  {
   "cell_type": "code",
   "execution_count": null,
   "metadata": {
    "collapsed": false
   },
   "outputs": [],
   "source": [
    "dv = DictVectorizer()\n",
    "X = dv.fit_transform(list(new_X))\n",
    "X"
   ]
  },
  {
   "cell_type": "code",
   "execution_count": 144,
   "metadata": {
    "collapsed": false,
    "scrolled": false
   },
   "outputs": [
    {
     "name": "stdout",
     "output_type": "stream",
     "text": [
      "0 done\n",
      "10000 done\n",
      "20000 done\n",
      "30000 done\n",
      "40000 done\n",
      "50000 done\n",
      "60000 done\n",
      "70000 done\n",
      "80000 done\n",
      "90000 done\n",
      "[([('-1_279.0_F', 0.7166111469268799), ('-1_3300.0_F', 0.7010934352874756), ('-1_OPTICAL_-_FRAMES_D', 0.6882380247116089), ('-1_2210.0_F', 0.6643586158752441), ('-1_4010.0_F', 0.6555976271629333), ('1_2022.0_F', 0.6510748863220215), ('-1_4503.0_F', 0.6502223014831543), ('-1_BEAUTY_D', 0.6434401273727417), ('-1_4650.0_F', 0.6309057474136353), ('6215.0_F', 0.6212536096572876)], [('3790.0_F', 0.46924012899398804), ('2_3181.0_F', 0.46200835704803467), ('3_3953.0_F', 0.4445602595806122), ('1_8427.0_F', 0.444318950176239), ('2_4150.0_F', 0.4391149878501892), ('1_7950.0_F', 0.43866604566574097), ('2_4602.0_F', 0.43725109100341797), ('9102.0_F', 0.43361178040504456), ('2_6160.0_F', 0.4265710711479187), ('2_1027.0_F', 0.4201729893684387)]), ([('-1_SHOES_D', 0.732521653175354), ('1348.0_F', 0.7008152008056641), ('1376.0_F', 0.6646987199783325), ('2630.0_F', 0.6636745929718018), ('1_1446.0_F', 0.6584056615829468), ('1_1366.0_F', 0.64411461353302), ('2009.0_F', 0.6395969390869141), ('1_1376.0_F', 0.6350727081298828), ('1_1427.0_F', 0.633414626121521), ('1427.0_F', 0.6268049478530884)], [('2_4009.0_F', 0.4513344168663025), ('2_2996.0_F', 0.4508556127548218), ('7958.0_F', 0.39971446990966797), ('5757.0_F', 0.3919004499912262), ('2_5998.0_F', 0.3849056661128998), ('1_7151.0_F', 0.38377058506011963), ('2_3031.0_F', 0.3764957785606384), ('5_3004.0_F', 0.3720493018627167), ('1_2457.0_F', 0.37071794271469116), ('1_3553.0_F', 0.3629997968673706)]), ([('1029.0_F', 0.8286054730415344), ('2_1031.0_F', 0.715571939945221), ('2_1029.0_F', 0.7043420076370239), ('2518.0_F', 0.6686216592788696), ('3425.0_F', 0.6493600606918335), ('2814.0_F', 0.6488403677940369), ('1021.0_F', 0.6333662867546082), ('1_4313.0_F', 0.632161021232605), ('3525.0_F', 0.620021641254425), ('4315.0_F', 0.6132626533508301)], [('1_6217.0_F', 0.38077208399772644), ('4_7651.0_F', 0.3463623523712158), ('4321.0_F', 0.3371273875236511), ('1_4363.0_F', 0.3167382478713989), ('1_8526.0_F', 0.3107371926307678), ('2_7550.0_F', 0.3069037199020386), ('11_3120.0_F', 0.3065659999847412), ('9105.0_F', 0.30433815717697144), ('2_2758.0_F', 0.30341973900794983), ('-1_701.0_F', 0.2925744652748108)]), ([('16.0_F', 0.5457236766815186), ('4160.0_F', 0.5300694108009338), ('2252.0_F', 0.5286149978637695), ('9003.0_F', 0.5147686004638672), ('1_7170.0_F', 0.5142620801925659), ('1_4159.0_F', 0.5133628845214844), ('3108.0_F', 0.5106728672981262), ('2_2400.0_F', 0.5065414905548096), ('1_7501.0_F', 0.4992297887802124), ('4521.0_F', 0.4970107078552246)], [('2_2050.0_F', 0.4472779631614685), ('1_6335.0_F', 0.41324278712272644), ('2_1855.0_F', 0.399524450302124), ('9223.0_F', 0.3799282908439636), ('1_6410.0_F', 0.3695813715457916), ('2_6614.0_F', 0.3582266569137573), ('3_1204.0_F', 0.3522014617919922), ('5_3120.0_F', 0.35077041387557983), ('6657.0_F', 0.35029667615890503), ('3_2998.0_F', 0.3476898670196533)]), ([('1_4639.0_F', 0.5922309160232544), ('3563.0_F', 0.5576973557472229), ('3054.0_F', 0.5553220510482788), ('1_3353.0_F', 0.5547946691513062), ('1_2953.0_F', 0.5528609752655029), ('1_6353.0_F', 0.4804089665412903), ('9139.0_F', 0.4787920117378235), ('1_7957.0_F', 0.4787842333316803), ('77.0_F', 0.4693892300128937), ('9547.0_F', 0.46842414140701294)], [('5462.0_F', 0.37320587038993835), ('1_6410.0_F', 0.36458951234817505), ('-1_3030.0_F', 0.3536050319671631), ('4208.0_F', 0.3405967652797699), ('5830.0_F', 0.33876028656959534), ('1_2151.0_F', 0.3342741131782532), ('1_3682.0_F', 0.3333727717399597), ('6313.0_F', 0.33083099126815796), ('7654.0_F', 0.3288276791572571), ('1_1636.0_F', 0.317170113325119)]), ([('1_8022.0_F', 0.5602742433547974), ('8022.0_F', 0.5454428791999817), ('100.0_F', 0.5152066349983215), ('-1_100.0_F', 0.5127565860748291), ('2_IMPULSE_MERCHANDISE_D', 0.4937320351600647), ('-1_IMPULSE_MERCHANDISE_D', 0.49064111709594727), ('1_8023.0_F', 0.49051302671432495), ('322.0_F', 0.48786893486976624), ('3_IMPULSE_MERCHANDISE_D', 0.48631101846694946), ('8023.0_F', 0.48186931014060974)], [('5552.0_F', 0.4527904689311981), ('568.0_F', 0.37206506729125977), ('1_3905.0_F', 0.36164170503616333), ('1_7238.0_F', 0.3445885479450226), ('7917.0_F', 0.34048470854759216), ('8093.0_F', 0.33892756700515747), ('6631.0_F', 0.3303123414516449), ('2_1111.0_F', 0.32790839672088623), ('2_5633.0_F', 0.3273490071296692), ('8425.0_F', 0.3263559341430664)]), ([('27.0_F', 0.5951801538467407), ('3063.0_F', 0.5448541641235352), ('-1_HOUSEHOLD_CHEMICALS/SUPP_D', 0.5369360446929932), ('55.0_F', 0.5307325124740601), ('1_3619.0_F', 0.5300989151000977), ('3_3458.0_F', 0.5149778723716736), ('1_6721.0_F', 0.5112234354019165), ('1_4730.0_F', 0.5100700855255127), ('1058.0_F', 0.5071487426757812), ('1_6105.0_F', 0.5064269304275513)], [('4643.0_F', 0.3780766725540161), ('1_4233.0_F', 0.36959415674209595), ('1_2455.0_F', 0.3606570065021515), ('3_4503.0_F', 0.35822153091430664), ('1_8305.0_F', 0.3507222533226013), ('1_2199.0_F', 0.3465757668018341), ('4_8101.0_F', 0.34623268246650696), ('2_8905.0_F', 0.3370415270328522), ('1_4021.0_F', 0.3348114490509033), ('1_1169.0_F', 0.3345900774002075)]), ([('6899.0_F', 0.8075500726699829), ('506.0_F', 0.7542229890823364), ('2922.0_F', 0.7102936506271362), ('1_5903.0_F', 0.6693755984306335), ('1_2922.0_F', 0.6390188932418823), ('1_1308.0_F', 0.6344112753868103), ('732.0_F', 0.6280104517936707), ('1_58.0_F', 0.6200939416885376), ('4390.0_F', 0.6074736714363098), ('4_FABRICS_AND_CRAFTS_D', 0.6033328771591187)], [('6_9704.0_F', 0.35811445116996765), ('2_5305.0_F', 0.3159055709838867), ('4_2403.0_F', 0.30767157673835754), ('2_1513.0_F', 0.2916152775287628), ('-1_2008.0_F', 0.2886209487915039), ('1_7238.0_F', 0.28448688983917236), ('9558.0_F', 0.2836214303970337), ('2_3187.0_F', 0.2822200059890747), ('8_PHARMACY_OTC_D', 0.27137598395347595), ('1_7004.0_F', 0.268526554107666)]), ([('3_CANDY_TOBACCO_COOKIES_D', 0.6398227214813232), ('3_8012.0_F', 0.6292569041252136), ('1_8018.0_F', 0.6108005046844482), ('5_CANDY_TOBACCO_COOKIES_D', 0.6080423593521118), ('8018.0_F', 0.6059787273406982), ('-1_CANDY_TOBACCO_COOKIES_D', 0.5991567373275757), ('82.0_F', 0.5916146039962769), ('1_8465.0_F', 0.5881479978561401), ('3_707.0_F', 0.5706775188446045), ('1_8411.0_F', 0.5643985867500305)], [('1_1636.0_F', 0.4797174334526062), ('1636.0_F', 0.39238378405570984), ('1_1298.0_F', 0.3848831355571747), ('3_600.0_F', 0.3773297667503357), ('1_2046.0_F', 0.3527924418449402), ('7649.0_F', 0.34998011589050293), ('1_4350.0_F', 0.34969469904899597), ('5403.0_F', 0.3305279612541199), ('1_274.0_F', 0.3266431987285614), ('3_1.0_F', 0.32482510805130005)]), ([('1_8021.0_F', 0.7031821012496948), ('1_8226.0_F', 0.6610046625137329), ('7140.0_F', 0.6459624767303467), ('5327.0_F', 0.6344722509384155), ('2_MENS_WEAR_D', 0.6276781558990479), ('8021.0_F', 0.6256011724472046), ('8226.0_F', 0.616796612739563), ('-1_IMPULSE_MERCHANDISE_D', 0.6159074306488037), ('-1_MENS_WEAR_D', 0.6065587997436523), ('1_7140.0_F', 0.5909802913665771)], [('1_6636.0_F', 0.4288174510002136), ('1_3702.0_F', 0.4238539934158325), ('2_1855.0_F', 0.40568408370018005), ('2_1513.0_F', 0.38728928565979004), ('1_2101.0_F', 0.35338038206100464), ('GROCERY_DRY_GOODS_D', 0.3480232357978821), ('6085.0_F', 0.33942049741744995), ('2_7654.0_F', 0.33874598145484924), ('2_5998.0_F', 0.3370474576950073), ('1_6376.0_F', 0.32978853583335876)])]\n"
     ]
    }
   ],
   "source": [
    "vc = model.vocab.keys()\n",
    "features = []\n",
    "for cnt, sent in enumerate(NX):\n",
    "    s = [word for word in sent if word in vc]\n",
    "    pos = model.most_similar(positive=s)\n",
    "    neg = model.most_similar(negative=s)\n",
    "    if cnt % 10000 == 0: print(str(cnt), \"done\")\n",
    "    features.append((s, pos, neg))\n",
    "print(features[:10])"
   ]
  },
  {
   "cell_type": "code",
   "execution_count": null,
   "metadata": {
    "collapsed": true
   },
   "outputs": [],
   "source": []
  }
 ],
 "metadata": {
  "kernelspec": {
   "display_name": "Python 3",
   "language": "python",
   "name": "python3"
  },
  "language_info": {
   "codemirror_mode": {
    "name": "ipython",
    "version": 3
   },
   "file_extension": ".py",
   "mimetype": "text/x-python",
   "name": "python",
   "nbconvert_exporter": "python",
   "pygments_lexer": "ipython3",
   "version": "3.5.0"
  }
 },
 "nbformat": 4,
 "nbformat_minor": 0
}
