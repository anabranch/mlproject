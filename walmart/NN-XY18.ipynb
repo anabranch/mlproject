{
 "cells": [
  {
   "cell_type": "code",
   "execution_count": 1,
   "metadata": {
    "collapsed": false
   },
   "outputs": [],
   "source": [
    "%matplotlib inline\n",
    "%load_ext autoreload\n",
    "import numpy as np\n",
    "import pandas as pd\n",
    "import scipy as sp\n",
    "import scipy.io\n",
    "import datetime\n",
    "from sklearn.cross_validation import train_test_split\n",
    "from sklearn.preprocessing import normalize\n",
    "from sklearn.utils import shuffle\n",
    "\n",
    "import matplotlib.pyplot as plt\n",
    "import matplotlib\n",
    "%matplotlib inline"
   ]
  },
  {
   "cell_type": "code",
   "execution_count": 2,
   "metadata": {
    "collapsed": false
   },
   "outputs": [
    {
     "name": "stdout",
     "output_type": "stream",
     "text": [
      "Modules to reload:\n",
      "loader neuralnet\n",
      "\n",
      "Modules to skip:\n",
      "\n"
     ]
    }
   ],
   "source": [
    "import loader\n",
    "import neuralnet\n",
    "%aimport neuralnet\n",
    "%aimport loader\n",
    "%aimport"
   ]
  },
  {
   "cell_type": "code",
   "execution_count": 3,
   "metadata": {
    "collapsed": true
   },
   "outputs": [],
   "source": [
    "import loader"
   ]
  },
  {
   "cell_type": "code",
   "execution_count": 4,
   "metadata": {
    "collapsed": true
   },
   "outputs": [],
   "source": [
    "def squared_error(y, y_hat):\n",
    "    return (y - y_hat).dot((y - y_hat))\n",
    "\n",
    "def squared_error_prime(y, y_hat):\n",
    "    return -1 * (y - y_hat)\n",
    "\n",
    "def cross_ent(y, y_hat):\n",
    "    part1 = y.dot(np.log(y_hat))\n",
    "    part2 = (1.0 - y).dot(np.nan_to_num(np.log(1.0 - y_hat)))\n",
    "    return -(part1 + part2)\n",
    "\n",
    "def cross_ent_prime(y, y_hat):\n",
    "    part1 = y / y_hat\n",
    "    part2 = (1 - y)/(1 - y_hat)\n",
    "    return -(part1 - part2)\n",
    "    \n",
    "def t(z):\n",
    "    return np.tanh(z)\n",
    "\n",
    "def t_prime(z):\n",
    "    return 1 - np.power(t(z), 2)\n",
    "\n",
    "def g(z):\n",
    "    return (1.0 / (1.0 + np.exp(-z)))\n",
    "\n",
    "def g_prime(z):\n",
    "    return g(z) * (1 - g(z))"
   ]
  },
  {
   "cell_type": "code",
   "execution_count": 5,
   "metadata": {
    "collapsed": false
   },
   "outputs": [
    {
     "name": "stderr",
     "output_type": "stream",
     "text": [
      "WARNING:gensim.models.word2vec:consider setting layer size to a multiple of 4 for greater performance\n"
     ]
    },
    {
     "name": "stdout",
     "output_type": "stream",
     "text": [
      "training w2v\n",
      "starting X\n",
      "starting X test\n",
      "starting TFIDF\n",
      "now just transforming\n",
      "DONE!\n"
     ]
    }
   ],
   "source": [
    "%autoreload\n",
    "xy = loader.XY18()"
   ]
  },
  {
   "cell_type": "code",
   "execution_count": 6,
   "metadata": {
    "collapsed": true
   },
   "outputs": [],
   "source": [
    "X1 = xy['X_train']\n",
    "y1 = xy['y_train']\n",
    "y = pd.get_dummies(y1).values\n",
    "XVal1 = xy['X_val']\n",
    "yVal = xy['y_val']\n",
    "yVal = pd.get_dummies(yVal).values"
   ]
  },
  {
   "cell_type": "code",
   "execution_count": 7,
   "metadata": {
    "collapsed": false
   },
   "outputs": [],
   "source": [
    "X = X1.toarray()\n",
    "XVal = XVal1.toarray()\n",
    "from sklearn.preprocessing import normalize\n",
    "X = normalize(X)\n",
    "XVal = normalize(XVal)"
   ]
  },
  {
   "cell_type": "code",
   "execution_count": 100,
   "metadata": {
    "collapsed": false
   },
   "outputs": [
    {
     "name": "stdout",
     "output_type": "stream",
     "text": [
      "Total Train Time 345.25 Seconds\n",
      "Parameters used {'eta': 0.01, 'end': datetime.datetime(2015, 12, 10, 20, 48, 13, 522052), 'num_iters': 300000, 'start': datetime.datetime(2015, 12, 10, 20, 42, 28, 271419), 'score_every': 100000}\n",
      "Training Accuracy 0.582226054691\n",
      "Validation Accuracy 0.569689051476\n"
     ]
    },
    {
     "name": "stderr",
     "output_type": "stream",
     "text": [
      "/Users/bill_chambers/AeroFS/Dev/mlproject/walmart/neuralnet.py:120: FutureWarning: comparison to `None` will result in an elementwise object comparison in the future.\n",
      "  if XVal != None:\n"
     ]
    },
    {
     "data": {
      "image/png": "[encoded data removed]",
      "text/plain": [
       "<matplotlib.figure.Figure at 0x11fcb4e80>"
      ]
     },
     "metadata": {},
     "output_type": "display_data"
    }
   ],
   "source": [
    "%autoreload\n",
    "input_dim = len(X[0])\n",
    "output_dim = len(y[0])\n",
    "hl_size = 150\n",
    "\n",
    "layer1 = neuralnet.Layer((input_dim, hl_size), t, t_prime)\n",
    "layer2 = neuralnet.OutputLayer((hl_size, output_dim), g, g_prime)\n",
    "nn = neuralnet.NeuralNet(layer1, layer2, cross_ent, cross_ent_prime)\n",
    "nn.train(X, y, num_iters=300000, score_every=100000, eta=0.01, XVal=XVal, yVal=yVal)\n",
    "print(\"Parameters used\", nn.train_params)\n",
    "nn.resulting_scores()[['val_accuracy', 'iter']].plot(x='iter')\n",
    "print(\"Training Accuracy\", nn.score(X,y)/len(X))\n",
    "print(\"Validation Accuracy\", nn.score(XVal,yVal)/len(XVal))"
   ]
  },
  {
   "cell_type": "code",
   "execution_count": 101,
   "metadata": {
    "collapsed": true
   },
   "outputs": [],
   "source": [
    "nn.cache_layers(\"layers.pkl\")"
   ]
  },
  {
   "cell_type": "code",
   "execution_count": 102,
   "metadata": {
    "collapsed": false
   },
   "outputs": [
    {
     "name": "stdout",
     "output_type": "stream",
     "text": [
      "Total Train Time 692.94 Seconds\n",
      "Parameters used {'eta': 0.01, 'end': datetime.datetime(2015, 12, 10, 20, 59, 50, 703068), 'num_iters': 500000, 'start': datetime.datetime(2015, 12, 10, 20, 48, 17, 760492), 'score_every': 100000}\n",
      "Training Accuracy 0.623094108886\n",
      "Validation Accuracy 0.611758557617\n"
     ]
    },
    {
     "name": "stderr",
     "output_type": "stream",
     "text": [
      "/Users/bill_chambers/AeroFS/Dev/mlproject/walmart/neuralnet.py:120: FutureWarning: comparison to `None` will result in an elementwise object comparison in the future.\n",
      "  if XVal != None:\n"
     ]
    },
    {
     "data": {
      "image/png": "[encoded data removed]",
      "text/plain": [
       "<matplotlib.figure.Figure at 0x11f6c9748>"
      ]
     },
     "metadata": {},
     "output_type": "display_data"
    }
   ],
   "source": [
    "layer1 = neuralnet.Layer((input_dim, hl_size), t, t_prime)\n",
    "layer2 = neuralnet.OutputLayer((hl_size, output_dim), g, g_prime)\n",
    "nn = neuralnet.NeuralNet(layer1, layer2, cross_ent, cross_ent_prime)\n",
    "nn.load_layers('layers.pkl')\n",
    "nn.train(X, y, num_iters=500000, score_every=100000, eta=0.01, XVal=XVal, yVal=yVal)\n",
    "print(\"Parameters used\", nn.train_params)\n",
    "nn.resulting_scores()[['val_accuracy', 'iter']].plot(x='iter')\n",
    "print(\"Training Accuracy\", nn.score(X,y)/len(X))\n",
    "print(\"Validation Accuracy\", nn.score(XVal,yVal)/len(XVal))"
   ]
  },
  {
   "cell_type": "code",
   "execution_count": 103,
   "metadata": {
    "collapsed": true
   },
   "outputs": [],
   "source": [
    "nn.cache_layers(\"layers.pkl\")"
   ]
  },
  {
   "cell_type": "code",
   "execution_count": 105,
   "metadata": {
    "collapsed": false
   },
   "outputs": [
    {
     "name": "stdout",
     "output_type": "stream",
     "text": [
      "Total Train Time 5800.82 Seconds\n",
      "Parameters used {'eta': 0.005, 'end': datetime.datetime(2015, 12, 10, 23, 26, 31, 487023), 'num_iters': 6000000, 'start': datetime.datetime(2015, 12, 10, 21, 49, 50, 671218), 'score_every': 250000}\n",
      "Training Accuracy 0.698467447968\n",
      "Validation Accuracy 0.680324013588\n"
     ]
    },
    {
     "name": "stderr",
     "output_type": "stream",
     "text": [
      "/Users/bill_chambers/AeroFS/Dev/mlproject/walmart/neuralnet.py:120: FutureWarning: comparison to `None` will result in an elementwise object comparison in the future.\n",
      "  if XVal != None:\n"
     ]
    },
    {
     "data": {
      "image/png": "[encoded data removed]",
      "text/plain": [
       "<matplotlib.figure.Figure at 0x12051f0b8>"
      ]
     },
     "metadata": {},
     "output_type": "display_data"
    }
   ],
   "source": [
    "layer1 = neuralnet.Layer((input_dim, hl_size), t, t_prime)\n",
    "layer2 = neuralnet.OutputLayer((hl_size, output_dim), g, g_prime)\n",
    "nn = neuralnet.NeuralNet(layer1, layer2, cross_ent, cross_ent_prime)\n",
    "nn.load_layers('layers.pkl')\n",
    "nn.train(X, y, num_iters=6000000, score_every=250000, eta=0.005, XVal=XVal, yVal=yVal)\n",
    "print(\"Parameters used\", nn.train_params)\n",
    "nn.resulting_scores()[['val_accuracy', 'iter']].plot(x='iter')\n",
    "print(\"Training Accuracy\", nn.score(X,y)/len(X))\n",
    "print(\"Validation Accuracy\", nn.score(XVal,yVal)/len(XVal))"
   ]
  },
  {
   "cell_type": "code",
   "execution_count": 106,
   "metadata": {
    "collapsed": true
   },
   "outputs": [],
   "source": [
    "nn.cache_layers(\"layers.pkl\")"
   ]
  },
  {
   "cell_type": "code",
   "execution_count": 9,
   "metadata": {
    "collapsed": false
   },
   "outputs": [
    {
     "name": "stdout",
     "output_type": "stream",
     "text": [
      "Total Train Time 4231.50 Seconds\n",
      "Parameters used {'eta': 0.001, 'score_every': 250000, 'start': datetime.datetime(2015, 12, 11, 7, 30, 38, 508698), 'num_iters': 3000000, 'end': datetime.datetime(2015, 12, 11, 8, 41, 10, 8617)}\n",
      "Training Accuracy 0.654450672206\n",
      "Validation Accuracy 0.314659001829\n"
     ]
    },
    {
     "name": "stderr",
     "output_type": "stream",
     "text": [
      "/Users/bill_chambers/AeroFS/Dev/mlproject/walmart/neuralnet.py:120: FutureWarning: comparison to `None` will result in an elementwise object comparison in the future.\n",
      "  if XVal != None:\n"
     ]
    },
    {
     "data": {
      "image/png": "[encoded data removed]",
      "text/plain": [
       "<matplotlib.figure.Figure at 0x12a398438>"
      ]
     },
     "metadata": {},
     "output_type": "display_data"
    }
   ],
   "source": [
    "%autoreload\n",
    "input_dim = len(X[0])\n",
    "output_dim = len(y[0])\n",
    "hl_size = 150\n",
    "layer1 = neuralnet.Layer((input_dim, hl_size), t, t_prime)\n",
    "layer2 = neuralnet.OutputLayer((hl_size, output_dim), g, g_prime)\n",
    "nn = neuralnet.NeuralNet(layer1, layer2, cross_ent, cross_ent_prime)\n",
    "nn.load_layers('layers.pkl')\n",
    "nn.train(X, y, num_iters=3000000, score_every=250000, eta=0.001, XVal=XVal, yVal=yVal)\n",
    "print(\"Parameters used\", nn.train_params)\n",
    "nn.resulting_scores()[['val_accuracy', 'iter']].plot(x='iter')\n",
    "print(\"Training Accuracy\", nn.score(X,y)/len(X))\n",
    "print(\"Validation Accuracy\", nn.score(XVal,yVal)/len(XVal))"
   ]
  },
  {
   "cell_type": "code",
   "execution_count": 10,
   "metadata": {
    "collapsed": true
   },
   "outputs": [],
   "source": [
    "nn = neuralnet.NeuralNet(layer1, layer2, cross_ent, cross_ent_prime)\n",
    "nn.load_layers('layers2.pkl')"
   ]
  },
  {
   "cell_type": "code",
   "execution_count": 11,
   "metadata": {
    "collapsed": false
   },
   "outputs": [
    {
     "name": "stdout",
     "output_type": "stream",
     "text": [
      "Missing Categories {33, 4, 37, 39, 9, 43, 14, 18, 19, 21, 22, 23, 29, 30}\n"
     ]
    }
   ],
   "source": [
    "import utils\n",
    "preds = pd.Series(nn.predict(normalize(xy['X_test'].toarray()))).map(dict(enumerate(pd.get_dummies(y1).columns)))\n",
    "utils.convert_predictions(pd.DataFrame({\n",
    "        \"VisitNumber\":xy['X_test_index'],\n",
    "        \"TripType\": preds\n",
    "        })).to_csv(\"XY18.csv\", index=False)"
   ]
  },
  {
   "cell_type": "code",
   "execution_count": null,
   "metadata": {
    "collapsed": true
   },
   "outputs": [],
   "source": []
  }
 ],
 "metadata": {
  "kernelspec": {
   "display_name": "Python 3",
   "language": "python",
   "name": "python3"
  },
  "language_info": {
   "codemirror_mode": {
    "name": "ipython",
    "version": 3
   },
   "file_extension": ".py",
   "mimetype": "text/x-python",
   "name": "python",
   "nbconvert_exporter": "python",
   "pygments_lexer": "ipython3",
   "version": "3.5.0"
  }
 },
 "nbformat": 4,
 "nbformat_minor": 0
}
