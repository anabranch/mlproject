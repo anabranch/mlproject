{
 "cells": [
  {
   "cell_type": "code",
   "execution_count": 3,
   "metadata": {
    "collapsed": false
   },
   "outputs": [
    {
     "name": "stdout",
     "output_type": "stream",
     "text": [
      "The autoreload extension is already loaded. To reload it, use:\n",
      "  %reload_ext autoreload\n"
     ]
    }
   ],
   "source": [
    "%matplotlib inline\n",
    "%load_ext autoreload\n",
    "import numpy as np\n",
    "import pandas as pd\n",
    "import scipy as sp\n",
    "import scipy.io\n",
    "import datetime\n",
    "from sklearn.cross_validation import train_test_split\n",
    "from sklearn.preprocessing import normalize\n",
    "from sklearn.utils import shuffle\n",
    "\n",
    "import matplotlib.pyplot as plt\n",
    "import matplotlib\n",
    "%matplotlib inline"
   ]
  },
  {
   "cell_type": "code",
   "execution_count": 4,
   "metadata": {
    "collapsed": false
   },
   "outputs": [
    {
     "name": "stdout",
     "output_type": "stream",
     "text": [
      "Modules to reload:\n",
      "loader neuralnet\n",
      "\n",
      "Modules to skip:\n",
      "\n"
     ]
    }
   ],
   "source": [
    "import loader\n",
    "import neuralnet\n",
    "%aimport neuralnet\n",
    "%aimport loader\n",
    "%aimport"
   ]
  },
  {
   "cell_type": "code",
   "execution_count": 6,
   "metadata": {
    "collapsed": true
   },
   "outputs": [],
   "source": [
    "import loader"
   ]
  },
  {
   "cell_type": "code",
   "execution_count": 8,
   "metadata": {
    "collapsed": true
   },
   "outputs": [],
   "source": [
    "def squared_error(y, y_hat):\n",
    "    return (y - y_hat).dot((y - y_hat))\n",
    "\n",
    "def squared_error_prime(y, y_hat):\n",
    "    return -1 * (y - y_hat)\n",
    "\n",
    "def cross_ent(y, y_hat):\n",
    "    part1 = y.dot(np.log(y_hat))\n",
    "    part2 = (1.0 - y).dot(np.nan_to_num(np.log(1.0 - y_hat)))\n",
    "    return -(part1 + part2)\n",
    "\n",
    "def cross_ent_prime(y, y_hat):\n",
    "    part1 = y / y_hat\n",
    "    part2 = (1 - y)/(1 - y_hat)\n",
    "    return -(part1 - part2)\n",
    "    \n",
    "def t(z):\n",
    "    return np.tanh(z)\n",
    "\n",
    "def t_prime(z):\n",
    "    return 1 - np.power(t(z), 2)\n",
    "\n",
    "def g(z):\n",
    "    return (1.0 / (1.0 + np.exp(-z)))\n",
    "\n",
    "def g_prime(z):\n",
    "    return g(z) * (1 - g(z))"
   ]
  },
  {
   "cell_type": "code",
   "execution_count": 9,
   "metadata": {
    "collapsed": false
   },
   "outputs": [
    {
     "name": "stdout",
     "output_type": "stream",
     "text": [
      "transforming\n",
      "tfidf\n",
      "for test\n",
      "returning\n"
     ]
    }
   ],
   "source": []
  },
  {
   "cell_type": "code",
   "execution_count": 32,
   "metadata": {
    "collapsed": false
   },
   "outputs": [],
   "source": [
    "%autoreload\n",
    "xy = loader.XY10()\n",
    "X = xy['X_train'].toarray()\n",
    "y = xy['y_train']\n",
    "y = pd.get_dummies(y).values\n",
    "XVal = xy['X_val'].toarray()\n",
    "yVal = xy['y_val']\n",
    "yVal = pd.get_dummies(yVal).values"
   ]
  },
  {
   "cell_type": "code",
   "execution_count": 46,
   "metadata": {
    "collapsed": false
   },
   "outputs": [
    {
     "name": "stdout",
     "output_type": "stream",
     "text": [
      "Total Train Time 209.53 Seconds\n"
     ]
    },
    {
     "name": "stderr",
     "output_type": "stream",
     "text": [
      "/Users/bill_chambers/AeroFS/Dev/mlproject/walmart/neuralnet.py:109: FutureWarning: comparison to `None` will result in an elementwise object comparison in the future.\n",
      "  if XVal != None:\n"
     ]
    }
   ],
   "source": [
    "%autoreload\n",
    "input_dim = len(X[0])\n",
    "output_dim = len(y[0])\n",
    "hl_size = 150\n",
    "\n",
    "layer1 = neuralnet.Layer((input_dim, hl_size), t, t_prime)\n",
    "layer2 = neuralnet.OutputLayer((hl_size, output_dim), g, g_prime)\n",
    "\n",
    "nn = neuralnet.NeuralNet(layer1, layer2, cross_ent, cross_ent_prime)\n",
    "nn.train(X, y, num_iters=300000, score_every=50000, eta=0.01, XVal=XVal, yVal=yVal)"
   ]
  },
  {
   "cell_type": "code",
   "execution_count": 47,
   "metadata": {
    "collapsed": false
   },
   "outputs": [
    {
     "name": "stdout",
     "output_type": "stream",
     "text": [
      "Parameters used {'score_every': 50000, 'end': datetime.datetime(2015, 12, 9, 15, 50, 29, 473171), 'eta': 0.01, 'num_iters': 300000, 'start': datetime.datetime(2015, 12, 9, 15, 46, 59, 945286)}\n",
      "Training Accuracy 0.646912031775\n",
      "Validation Accuracy 0.323752286386\n"
     ]
    },
    {
     "data": {
      "image/png": "[encoded data removed]",
      "text/plain": [
       "<matplotlib.figure.Figure at 0x1098a15f8>"
      ]
     },
     "metadata": {},
     "output_type": "display_data"
    }
   ],
   "source": [
    "print(\"Parameters used\", nn.train_params)\n",
    "nn.resulting_scores()[['val_accuracy', 'iter']].plot(x='iter')\n",
    "print(\"Training Accuracy\", nn.score(X,y)/len(X))\n",
    "print(\"Validation Accuracy\", nn.score(XVal,yVal)/len(XVal))"
   ]
  },
  {
   "cell_type": "code",
   "execution_count": 72,
   "metadata": {
    "collapsed": false
   },
   "outputs": [],
   "source": [
    "%autoreload\n",
    "xy = loader.XY16()\n",
    "X = xy['X_train']\n",
    "y = xy['y_train']\n",
    "y = pd.get_dummies(y).values\n",
    "XVal = xy['X_val']\n",
    "yVal = xy['y_val']\n",
    "yVal = pd.get_dummies(yVal).values"
   ]
  },
  {
   "cell_type": "code",
   "execution_count": 73,
   "metadata": {
    "collapsed": false
   },
   "outputs": [],
   "source": [
    "from sklearn.preprocessing import normalize"
   ]
  },
  {
   "cell_type": "code",
   "execution_count": 81,
   "metadata": {
    "collapsed": true
   },
   "outputs": [],
   "source": [
    "X = normalize(X)\n",
    "XVal = normalize(XVal)"
   ]
  },
  {
   "cell_type": "code",
   "execution_count": 92,
   "metadata": {
    "collapsed": false
   },
   "outputs": [
    {
     "name": "stdout",
     "output_type": "stream",
     "text": [
      "Total Train Time 2080.57 Seconds\n"
     ]
    },
    {
     "name": "stderr",
     "output_type": "stream",
     "text": [
      "/Users/bill_chambers/AeroFS/Dev/mlproject/walmart/neuralnet.py:109: FutureWarning: comparison to `None` will result in an elementwise object comparison in the future.\n",
      "  if XVal != None:\n"
     ]
    }
   ],
   "source": [
    "%autoreload\n",
    "input_dim = len(X[0])\n",
    "output_dim = len(y[0])\n",
    "hl_size = 200\n",
    "\n",
    "layer1 = neuralnet.Layer((input_dim, hl_size), t, t_prime)\n",
    "layer2 = neuralnet.OutputLayer((hl_size, output_dim), g, g_prime)\n",
    "\n",
    "nn = neuralnet.NeuralNet(layer1, layer2, cross_ent, cross_ent_prime)\n",
    "nn.train(X, y, num_iters=8000000, score_every=1000000, eta=0.001, XVal=XVal, yVal=yVal)"
   ]
  },
  {
   "cell_type": "code",
   "execution_count": 93,
   "metadata": {
    "collapsed": false
   },
   "outputs": [
    {
     "name": "stdout",
     "output_type": "stream",
     "text": [
      "Parameters used {'score_every': 1000000, 'end': datetime.datetime(2015, 12, 9, 18, 6, 6, 423743), 'eta': 0.001, 'num_iters': 8000000, 'start': datetime.datetime(2015, 12, 9, 17, 31, 25, 856799)}\n",
      "Training Accuracy 0.633885992762\n",
      "Validation Accuracy 0.631199372877\n"
     ]
    },
    {
     "data": {
      "image/png": "[encoded data removed]",
      "text/plain": [
       "<matplotlib.figure.Figure at 0x1084252b0>"
      ]
     },
     "metadata": {},
     "output_type": "display_data"
    }
   ],
   "source": [
    "print(\"Parameters used\", nn.train_params)\n",
    "nn.resulting_scores()[['val_accuracy', 'iter']].plot(x='iter')\n",
    "print(\"Training Accuracy\", nn.score(X,y)/len(X))\n",
    "print(\"Validation Accuracy\", nn.score(XVal,yVal)/len(XVal))"
   ]
  },
  {
   "cell_type": "code",
   "execution_count": null,
   "metadata": {
    "collapsed": true
   },
   "outputs": [],
   "source": []
  }
 ],
 "metadata": {
  "kernelspec": {
   "display_name": "Python 3",
   "language": "python",
   "name": "python3"
  },
  "language_info": {
   "codemirror_mode": {
    "name": "ipython",
    "version": 3
   },
   "file_extension": ".py",
   "mimetype": "text/x-python",
   "name": "python",
   "nbconvert_exporter": "python",
   "pygments_lexer": "ipython3",
   "version": "3.5.0"
  }
 },
 "nbformat": 4,
 "nbformat_minor": 0
}
