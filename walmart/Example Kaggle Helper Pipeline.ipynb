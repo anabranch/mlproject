{
 "cells": [
  {
   "cell_type": "code",
   "execution_count": 2,
   "metadata": {
    "collapsed": false
   },
   "outputs": [
    {
     "name": "stdout",
     "output_type": "stream",
     "text": [
      "The autoreload extension is already loaded. To reload it, use:\n",
      "  %reload_ext autoreload\n"
     ]
    }
   ],
   "source": [
    "%load_ext autoreload\n",
    "%matplotlib inline\n",
    "import warnings\n",
    "warnings.simplefilter(\"ignore\", category=DeprecationWarning)\n",
    "\n",
    "import pandas as pd\n",
    "import numpy as np\n",
    "\n",
    "import datetime\n",
    "from sklearn.grid_search import GridSearchCV\n",
    "\n",
    "from sklearn import linear_model, decomposition, datasets\n",
    "from sklearn.pipeline import Pipeline\n",
    "from sklearn.grid_search import GridSearchCV\n",
    "\n",
    "\n",
    "import feature_transformers as ft\n",
    "from kaggle_helper import KaggleHelper\n",
    "%aimport feature_transformers\n",
    "%aimport kaggle_helper"
   ]
  },
  {
   "cell_type": "code",
   "execution_count": 3,
   "metadata": {
    "collapsed": false
   },
   "outputs": [
    {
     "name": "stdout",
     "output_type": "stream",
     "text": [
      "Modules to reload:\n",
      "feature_transformers kaggle_helper\n",
      "\n",
      "Modules to skip:\n",
      "\n"
     ]
    }
   ],
   "source": [
    "%aimport"
   ]
  },
  {
   "cell_type": "code",
   "execution_count": 7,
   "metadata": {
    "collapsed": true
   },
   "outputs": [],
   "source": [
    "KH = KaggleHelper(\"pipeline testing.db\")"
   ]
  },
  {
   "cell_type": "code",
   "execution_count": 4,
   "metadata": {
    "collapsed": false
   },
   "outputs": [
    {
     "name": "stdout",
     "output_type": "stream",
     "text": [
      "Unique UPC: 97715\n",
      "Unique DepartmentDescription: 69\n",
      "Unique FinelineNumber: 5196\n"
     ]
    }
   ],
   "source": [
    "raw = pd.read_csv(\"data/train.csv\")\n",
    "print(\"Unique UPC:\", len(raw.Upc.unique()))\n",
    "print(\"Unique DepartmentDescription:\", len(raw.DepartmentDescription.unique()))\n",
    "print(\"Unique FinelineNumber:\", len(raw.FinelineNumber.unique()))\n",
    "y = raw[['TripType', 'VisitNumber']].groupby('VisitNumber').mean()\n",
    "X = raw.drop('TripType', axis=1)"
   ]
  },
  {
   "cell_type": "code",
   "execution_count": 9,
   "metadata": {
    "collapsed": true
   },
   "outputs": [],
   "source": [
    "%autoreload"
   ]
  },
  {
   "cell_type": "code",
   "execution_count": 22,
   "metadata": {
    "collapsed": false
   },
   "outputs": [
    {
     "name": "stdout",
     "output_type": "stream",
     "text": [
      "None\n",
      "None\n",
      "1448480933\n"
     ]
    }
   ],
   "source": [
    "print(KH.current_run)\n",
    "KH.start_pipeline()\n",
    "print(KH.record_metric(\"validation\", \"start\", \"\", \"\", \"\"))\n",
    "print(KH.current_run)"
   ]
  },
  {
   "cell_type": "code",
   "execution_count": 23,
   "metadata": {
    "collapsed": false
   },
   "outputs": [],
   "source": [
    "%autoreload\n",
    "\n",
    "group_cols = ['Weekday']\n",
    "keep_cols = ['VisitNumber', 'ScanCount', 'Returns']\n",
    "\n",
    "logistic = linear_model.LogisticRegression()\n",
    "pca = decomposition.PCA()\n",
    "\n",
    "dfta = ft.DataFrameToArray()\n",
    "add_returns = ft.NGAddReturns()\n",
    "gdd = ft.GDeptDescriptionWithTransform(group_cols, keep_cols, [np.sum, np.count_nonzero])\n",
    "ar1, ar2 = ft.generateMetricTransformPair(KH, \"add_returns\")\n",
    "\n",
    "pipe = Pipeline(steps=[\n",
    "        ('ar1', ar1),\n",
    "        ('add_returns', add_returns),\n",
    "        ('ar2', ar2),\n",
    "        ('gdd', gdd), \n",
    "        ('dftoarr', dfta), \n",
    "      #  ('pca', pca), \n",
    "        ('logistic', logistic)\n",
    "    ])"
   ]
  },
  {
   "cell_type": "code",
   "execution_count": 24,
   "metadata": {
    "collapsed": false
   },
   "outputs": [
    {
     "name": "stderr",
     "output_type": "stream",
     "text": [
      "/Library/Frameworks/Python.framework/Versions/3.5/lib/python3.5/site-packages/sklearn/utils/validation.py:449: DataConversionWarning: A column-vector y was passed when a 1d array was expected. Please change the shape of y to (n_samples, ), for example using ravel().\n",
      "  y = column_or_1d(y, warn=True)\n"
     ]
    },
    {
     "data": {
      "text/plain": [
       "array([[  1.,   1.,   0.,   0.,   1.],\n",
       "       [  2.,   2.,   2.,   2.,   2.],\n",
       "       [ 23.,  23.,  30.,  21.,  23.],\n",
       "       ..., \n",
       "       [  0.,   0.,  17.,  13.,  13.],\n",
       "       [  0.,   0.,  17.,  17.,  17.],\n",
       "       [  0.,   0.,   2.,   2.,   2.]])"
      ]
     },
     "execution_count": 24,
     "metadata": {},
     "output_type": "execute_result"
    }
   ],
   "source": [
    "pipe.fit_transform(X, y.values)"
   ]
  },
  {
   "cell_type": "code",
   "execution_count": null,
   "metadata": {
    "collapsed": true
   },
   "outputs": [],
   "source": []
  }
 ],
 "metadata": {
  "kernelspec": {
   "display_name": "Python 3",
   "language": "python",
   "name": "python3"
  },
  "language_info": {
   "codemirror_mode": {
    "name": "ipython",
    "version": 3
   },
   "file_extension": ".py",
   "mimetype": "text/x-python",
   "name": "python",
   "nbconvert_exporter": "python",
   "pygments_lexer": "ipython3",
   "version": "3.5.0"
  }
 },
 "nbformat": 4,
 "nbformat_minor": 0
}
