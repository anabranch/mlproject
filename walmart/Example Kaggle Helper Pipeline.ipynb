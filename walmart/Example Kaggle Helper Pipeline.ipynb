{
 "cells": [
  {
   "cell_type": "code",
   "execution_count": 1,
   "metadata": {
    "collapsed": false
   },
   "outputs": [
    {
     "name": "stderr",
     "output_type": "stream",
     "text": [
      "/Library/Frameworks/Python.framework/Versions/3.5/lib/python3.5/site-packages/sklearn/utils/fixes.py:64: DeprecationWarning: inspect.getargspec() is deprecated, use inspect.signature() instead\n",
      "  if 'order' in inspect.getargspec(np.copy)[0]:\n"
     ]
    }
   ],
   "source": [
    "%load_ext autoreload\n",
    "%matplotlib inline\n",
    "import warnings\n",
    "warnings.simplefilter(\"ignore\", category=DeprecationWarning)\n",
    "\n",
    "import pandas as pd\n",
    "import numpy as np\n",
    "\n",
    "import datetime\n",
    "\n",
    "from sklearn import linear_model, decomposition, datasets\n",
    "from sklearn.pipeline import Pipeline\n",
    "from sklearn.grid_search import GridSearchCV\n",
    "\n",
    "\n",
    "import feature_transformers as ft\n",
    "from kaggle_helper import KaggleHelper\n",
    "%aimport feature_transformers\n",
    "%aimport kaggle_helper"
   ]
  },
  {
   "cell_type": "code",
   "execution_count": 2,
   "metadata": {
    "collapsed": false
   },
   "outputs": [
    {
     "name": "stdout",
     "output_type": "stream",
     "text": [
      "Modules to reload:\n",
      "feature_transformers kaggle_helper\n",
      "\n",
      "Modules to skip:\n",
      "\n"
     ]
    }
   ],
   "source": [
    "%aimport"
   ]
  },
  {
   "cell_type": "code",
   "execution_count": 3,
   "metadata": {
    "collapsed": false
   },
   "outputs": [
    {
     "name": "stdout",
     "output_type": "stream",
     "text": [
      "table metrics already exists\n"
     ]
    }
   ],
   "source": [
    "kh = KaggleHelper(\"pipeline testing.db\")"
   ]
  },
  {
   "cell_type": "code",
   "execution_count": 50,
   "metadata": {
    "collapsed": false
   },
   "outputs": [
    {
     "name": "stdout",
     "output_type": "stream",
     "text": [
      "Unique UPC: 97715\n",
      "Unique DepartmentDescription: 69\n",
      "Unique FinelineNumber: 5196\n"
     ]
    }
   ],
   "source": [
    "raw = pd.read_csv(\"data/train.csv\")\n",
    "print(\"Unique UPC:\", len(raw.Upc.unique()))\n",
    "print(\"Unique DepartmentDescription:\", len(raw.DepartmentDescription.unique()))\n",
    "print(\"Unique FinelineNumber:\", len(raw.FinelineNumber.unique()))\n",
    "y = raw[['TripType', 'VisitNumber']].groupby('VisitNumber').mean()\n",
    "X = raw.drop('TripType', axis=1)"
   ]
  },
  {
   "cell_type": "code",
   "execution_count": 51,
   "metadata": {
    "collapsed": true
   },
   "outputs": [],
   "source": [
    "%autoreload"
   ]
  },
  {
   "cell_type": "code",
   "execution_count": 52,
   "metadata": {
    "collapsed": false
   },
   "outputs": [
    {
     "name": "stdout",
     "output_type": "stream",
     "text": [
      "1448485202\n",
      "None\n",
      "1448485207\n"
     ]
    }
   ],
   "source": [
    "print(kh.current_run)\n",
    "kh.start_pipeline()\n",
    "print(kh.record_metric(\"validation\", \"start\", \"\", \"\", \"\"))\n",
    "print(kh.current_run)"
   ]
  },
  {
   "cell_type": "code",
   "execution_count": 88,
   "metadata": {
    "collapsed": false
   },
   "outputs": [],
   "source": [
    "%autoreload\n",
    "y = raw[['TripType', 'VisitNumber']].groupby('VisitNumber').mean()\n",
    "X = raw.drop('TripType', axis=1)\n",
    "\n",
    "dummy_cols = ['Weekday']\n",
    "keep_cols = ['VisitNumber', 'ScanCount', 'Returns']\n",
    "\n",
    "funcs = [np.sum, np.count_nonzero]\n",
    "n_components = [10, 15]\n",
    "Cs = np.logspace(-4, 4, 3)\n",
    "cv_grid = {'logistic__C': Cs, 'pca__n_components': n_components}\n",
    "num_folds = 6\n",
    "\n",
    "\n",
    "logistic = linear_model.LogisticRegression()\n",
    "pca = decomposition.PCA()\n",
    "dfta = ft.DataFrameToArray()\n",
    "add_returns = ft.NGAddReturns()\n",
    "gdd = ft.GDummyAndKeepTransform(dummy_cols, keep_cols, funcs)\n",
    "\n",
    "kh.start_pipeline()\n",
    "transform_steps =  list(ft.wrapStep(kh, (\"add_returns\", add_returns)) + ft.wrapStep(kh, (\"gdd\", gdd)))\n",
    "transform_steps.append(((\"dfta\",dfta)))\n",
    "transform_pipe = Pipeline(steps=transform_steps)\n",
    "X = transform_pipe.transform(X)\n",
    "\n",
    "pred_steps = [('pca', pca)]\n",
    "pred_steps.append(('logistic', logistic))\n",
    "\n",
    "pred_pipe = Pipeline(steps=pred_steps)"
   ]
  },
  {
   "cell_type": "code",
   "execution_count": 90,
   "metadata": {
    "collapsed": true
   },
   "outputs": [],
   "source": [
    "estimator = GridSearchCV(pred_pipe, cv_grid)"
   ]
  },
  {
   "cell_type": "code",
   "execution_count": null,
   "metadata": {
    "collapsed": false
   },
   "outputs": [
    {
     "data": {
      "text/plain": [
       "(95674, 20)"
      ]
     },
     "execution_count": 91,
     "metadata": {},
     "output_type": "execute_result"
    }
   ],
   "source": [
    "X.shape"
   ]
  },
  {
   "cell_type": "code",
   "execution_count": null,
   "metadata": {
    "collapsed": false,
    "scrolled": false
   },
   "outputs": [],
   "source": [
    "estimator.fit(X, y['TripType'].values)"
   ]
  },
  {
   "cell_type": "code",
   "execution_count": null,
   "metadata": {
    "collapsed": true
   },
   "outputs": [],
   "source": []
  }
 ],
 "metadata": {
  "kernelspec": {
   "display_name": "Python 3",
   "language": "python",
   "name": "python3"
  },
  "language_info": {
   "codemirror_mode": {
    "name": "ipython",
    "version": 3
   },
   "file_extension": ".py",
   "mimetype": "text/x-python",
   "name": "python",
   "nbconvert_exporter": "python",
   "pygments_lexer": "ipython3",
   "version": "3.5.0"
  }
 },
 "nbformat": 4,
 "nbformat_minor": 0
}
